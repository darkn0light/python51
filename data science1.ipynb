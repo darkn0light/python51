{
 "cells": [
  {
   "cell_type": "code",
   "execution_count": 1,
   "id": "85431183-438f-419f-b639-dd66c5071c9c",
   "metadata": {},
   "outputs": [
    {
     "ename": "SyntaxError",
     "evalue": "invalid syntax (3649664538.py, line 1)",
     "output_type": "error",
     "traceback": [
      "\u001b[1;36m  Cell \u001b[1;32mIn[1], line 1\u001b[1;36m\u001b[0m\n\u001b[1;33m    14 june #day1\u001b[0m\n\u001b[1;37m       ^\u001b[0m\n\u001b[1;31mSyntaxError\u001b[0m\u001b[1;31m:\u001b[0m invalid syntax\n"
     ]
    }
   ],
   "source": [
    "14 june #day1"
   ]
  },
  {
   "cell_type": "code",
   "execution_count": 47,
   "id": "2f86e462-e5be-4193-aca1-04a18de22956",
   "metadata": {},
   "outputs": [
    {
     "name": "stdout",
     "output_type": "stream",
     "text": [
      "10\n"
     ]
    }
   ],
   "source": [
    "##int\n",
    "print(10)"
   ]
  },
  {
   "cell_type": "code",
   "execution_count": 48,
   "id": "6b6438ad-8c92-44aa-b3aa-a9499f2ba8a9",
   "metadata": {},
   "outputs": [
    {
     "name": "stdout",
     "output_type": "stream",
     "text": [
      "10.5\n"
     ]
    }
   ],
   "source": [
    "# float\n",
    "print(10.5)"
   ]
  },
  {
   "cell_type": "code",
   "execution_count": 49,
   "id": "c3a39185-c695-4d9f-a9bc-680dfac4bfc0",
   "metadata": {},
   "outputs": [
    {
     "name": "stdout",
     "output_type": "stream",
     "text": [
      "True\n"
     ]
    }
   ],
   "source": [
    "\n",
    "print(True)"
   ]
  },
  {
   "cell_type": "code",
   "execution_count": 50,
   "id": "8e7e92d8-e11a-4969-850d-9b2147f40213",
   "metadata": {},
   "outputs": [
    {
     "name": "stdout",
     "output_type": "stream",
     "text": [
      "True\n"
     ]
    }
   ],
   "source": [
    "#bool\n",
    "print(True)"
   ]
  },
  {
   "cell_type": "code",
   "execution_count": 51,
   "id": "46bd2e0a-42c4-40ec-ac7e-45cf26080a16",
   "metadata": {},
   "outputs": [
    {
     "name": "stdout",
     "output_type": "stream",
     "text": [
      "dhananjay\n"
     ]
    }
   ],
   "source": [
    "#string\n",
    "print(\"dhananjay\")"
   ]
  },
  {
   "cell_type": "code",
   "execution_count": 52,
   "id": "233b27c5-dff1-4b9c-a45f-5733ca040367",
   "metadata": {},
   "outputs": [
    {
     "name": "stdout",
     "output_type": "stream",
     "text": [
      "(3+5j)\n"
     ]
    }
   ],
   "source": [
    "#complex\n",
    "print(3+5j)"
   ]
  },
  {
   "cell_type": "code",
   "execution_count": null,
   "id": "7967ed6a-53ab-4d36-a416-7816d08d27ea",
   "metadata": {},
   "outputs": [],
   "source": [
    "#list\n",
    "print(10,10.5,\"string\")"
   ]
  },
  {
   "cell_type": "code",
   "execution_count": null,
   "id": "0ea0bcf1-d8ee-4bce-bcc0-6c66d8f71480",
   "metadata": {},
   "outputs": [],
   "source": [
    "#list\n",
    "print([10,10.5,\"string\"])"
   ]
  },
  {
   "cell_type": "code",
   "execution_count": 53,
   "id": "7d38a8b9-f274-452c-b012-e93bdd56cfe8",
   "metadata": {},
   "outputs": [
    {
     "name": "stdout",
     "output_type": "stream",
     "text": [
      "(10, 10.5, 'string')\n"
     ]
    }
   ],
   "source": [
    "#tuple\n",
    "print((10,10.5,\"string\"))"
   ]
  },
  {
   "cell_type": "code",
   "execution_count": 54,
   "id": "4412755c-a827-4ad0-a19a-35d99764e6e7",
   "metadata": {},
   "outputs": [
    {
     "name": "stdout",
     "output_type": "stream",
     "text": [
      "{1, 2, 3, 4, 5}\n"
     ]
    }
   ],
   "source": [
    "#set\n",
    "print({1,2,3,4,5,5,5,5,})"
   ]
  },
  {
   "cell_type": "code",
   "execution_count": null,
   "id": "554e9e5e-266f-4bf6-917b-d9c8f81263e7",
   "metadata": {},
   "outputs": [],
   "source": [
    "#dict\n",
    "print({\"name\":\"Dhananjay\"})"
   ]
  },
  {
   "cell_type": "code",
   "execution_count": null,
   "id": "be84fac7-1143-43ae-8aa7-a0f1ed4ffd90",
   "metadata": {},
   "outputs": [],
   "source": [
    "print(\"string\",10,10.5,sep=\"/\")"
   ]
  },
  {
   "cell_type": "code",
   "execution_count": 55,
   "id": "3d54ce8b-9e00-4c00-91eb-806f893b7b9f",
   "metadata": {},
   "outputs": [
    {
     "name": "stdout",
     "output_type": "stream",
     "text": [
      "hello world\n"
     ]
    }
   ],
   "source": [
    "print(\"hello\",end=\" \")\n",
    "print(\"world\")"
   ]
  },
  {
   "cell_type": "code",
   "execution_count": 56,
   "id": "6fedd72a-01c3-4a28-a962-07d40857f627",
   "metadata": {},
   "outputs": [
    {
     "name": "stdout",
     "output_type": "stream",
     "text": [
      "5\n"
     ]
    }
   ],
   "source": [
    "a=5\n",
    "b=a\n",
    "c=b\n",
    "print(c)"
   ]
  },
  {
   "cell_type": "code",
   "execution_count": 57,
   "id": "1cce774f-a78d-4f5e-a2a7-82d01ccff4da",
   "metadata": {},
   "outputs": [
    {
     "name": "stdout",
     "output_type": "stream",
     "text": [
      "6\n"
     ]
    }
   ],
   "source": [
    "a=b\n",
    "b=c\n",
    "c=6\n",
    "print(c)"
   ]
  },
  {
   "cell_type": "code",
   "execution_count": 44,
   "id": "2b42cd2e-5bf6-4602-968b-aabca3250e09",
   "metadata": {},
   "outputs": [
    {
     "name": "stdout",
     "output_type": "stream",
     "text": [
      "0\n"
     ]
    }
   ],
   "source": [
    "print(b)"
   ]
  },
  {
   "cell_type": "code",
   "execution_count": 45,
   "id": "062af9b4-8a7d-43fe-ae39-533769a48cbd",
   "metadata": {},
   "outputs": [
    {
     "data": {
      "text/plain": [
       "140737052590856"
      ]
     },
     "execution_count": 45,
     "metadata": {},
     "output_type": "execute_result"
    }
   ],
   "source": [
    "id(a)"
   ]
  },
  {
   "cell_type": "code",
   "execution_count": 46,
   "id": "d33fc3cf-1793-4e54-a118-8dce1e4a3c34",
   "metadata": {},
   "outputs": [
    {
     "data": {
      "text/plain": [
       "140737052590856"
      ]
     },
     "execution_count": 46,
     "metadata": {},
     "output_type": "execute_result"
    }
   ],
   "source": [
    "id(b)"
   ]
  },
  {
   "cell_type": "code",
   "execution_count": null,
   "id": "c4f5a55c-4bd1-42ae-9fe9-47e8e48bc987",
   "metadata": {},
   "outputs": [],
   "source": [
    "a=b=c=10\n",
    "print(a)"
   ]
  },
  {
   "cell_type": "code",
   "execution_count": null,
   "id": "35490812-1ffe-4251-8815-b375d24554c9",
   "metadata": {},
   "outputs": [],
   "source": [
    " student1=\"dhananjay\"\n",
    "student2=\"ram\"\n",
    "print(student1)\n",
    "print(student2)"
   ]
  },
  {
   "cell_type": "code",
   "execution_count": null,
   "id": "9ff0a069-9cca-4c0f-a9cf-7a488988f1fd",
   "metadata": {},
   "outputs": [],
   "source": [
    "input()"
   ]
  },
  {
   "cell_type": "code",
   "execution_count": null,
   "id": "94ed65c4-ecff-408f-a204-79b8ac4fd16b",
   "metadata": {},
   "outputs": [],
   "source": [
    "num1=input()\n",
    "print(num1)"
   ]
  },
  {
   "cell_type": "code",
   "execution_count": null,
   "id": "054a1ee6-b7a1-4ff8-88b3-515c300d4b80",
   "metadata": {},
   "outputs": [],
   "source": [
    "num1=input()\n",
    "num2=input()\n",
    "num3=num1+num2\n",
    "print(num3)"
   ]
  },
  {
   "cell_type": "code",
   "execution_count": null,
   "id": "abcf24b6-7885-4a29-8b15-51e1912ecd54",
   "metadata": {},
   "outputs": [],
   "source": [
    "num1=int(input())\n",
    "num2=int(input())\n",
    "print(num1+num2)"
   ]
  },
  {
   "cell_type": "code",
   "execution_count": null,
   "id": "d6415940-9f31-49e2-a820-139351dad48b",
   "metadata": {},
   "outputs": [],
   "source": [
    "num1=int(input())\n",
    "num2=int(input())\n",
    "print(num1+num2)"
   ]
  },
  {
   "cell_type": "code",
   "execution_count": null,
   "id": "b24e3052-2d9c-4f60-ac15-d0732734a3c5",
   "metadata": {},
   "outputs": [],
   "source": [
    "int(True)"
   ]
  },
  {
   "cell_type": "code",
   "execution_count": null,
   "id": "8e10430c-c88c-4e71-960e-57f5ee42f5c3",
   "metadata": {},
   "outputs": [],
   "source": [
    "int(False)"
   ]
  },
  {
   "cell_type": "code",
   "execution_count": null,
   "id": "22c1a42d-d060-4a9b-a66e-d6616ab10c1d",
   "metadata": {},
   "outputs": [],
   "source": [
    "str(10)"
   ]
  },
  {
   "cell_type": "code",
   "execution_count": null,
   "id": "902e5983-bf0a-40f4-84c9-578b7bf910cb",
   "metadata": {},
   "outputs": [],
   "source": [
    "str(10.5)"
   ]
  },
  {
   "cell_type": "code",
   "execution_count": null,
   "id": "3c47a9c2-1ca4-4335-acdf-9f762e80776c",
   "metadata": {},
   "outputs": [],
   "source": [
    "str(5+6j)"
   ]
  },
  {
   "cell_type": "code",
   "execution_count": null,
   "id": "1e2495b5-0761-472c-a63e-8efd55b42164",
   "metadata": {},
   "outputs": [],
   "source": [
    "num1=int(input())\n",
    "num2=int(input())\n",
    "num3=int(input())\n",
    "print(num1+num2+num3)"
   ]
  },
  {
   "cell_type": "code",
   "execution_count": 42,
   "id": "34f5c60e-33c0-4625-950f-5eee80153583",
   "metadata": {},
   "outputs": [
    {
     "name": "stdout",
     "output_type": "stream",
     "text": [
      "12\n",
      "8\n",
      "20\n",
      "5.0\n",
      "0\n",
      "5\n",
      "187236554450620595852513967912043605304035164175157705002341077713914899228666171657367098091166994932117178949001566388383331519913663809703154639697206910530279041951670129619666213013443428399760568388694925024369196233872663721023427332419143042842010230537969227543234977245678652565936684287998393844093444272964713864338257125554190341601366564679953831724602013125759084818453204732188276385808279977915883213847750759239859492203991276649899444110936047753431491330979352662416591912645765280227621060532482351157749297452416535476178375011890803088382327777675580045692727970522669607145816973018550626312594009493908986510165913275258126398126513214833795741970027136965674161793178482736997832596161593759470714788139314500968875506520826984455680567229148928606797047083598533757702242027791852943349829236548268998195344413610957333575048470191388721127408434604445331856520913162903472171498858269091200973953581548377783836773884498694609811155257016969654515661019590210894486283812380889948304424502185993872130910241669384692668420707758518425032000211680889082589181133330022342981801908112973578117650584273184028460052295788208924307216441458489611027812485668986898884773792044224727875803743537229126657963514064404093943299038714028811439446532918844801995251161993413298458875513060548680236137618246300569076117621566011307504654666534852834543327576352408386286422148743578041482779215059059908482024644514426139581961556526370536382129985045164249784253178999398860619138981399240275049427222360648984499207629794293924298873914850412754861054480805290146802110175277391101859332866425508869109975851946655755016062379617554722761252432032511743877079002373875482589937746524810791015625\n"
     ]
    }
   ],
   "source": [
    "#oparators\n",
    "#artmatical oparators\n",
    "print(10+2) #addition\n",
    "print(10-2) #sutraction\n",
    "print(10*2) #multipication\n",
    "print(10/2) #division\n",
    "print(10%2) #modulas\n",
    "print(10//2) #flooar div\n",
    "print(5**2454) #exponant"
   ]
  },
  {
   "cell_type": "code",
   "execution_count": 41,
   "id": "607428e8-71a4-4641-a5be-be5838ec4cfc",
   "metadata": {},
   "outputs": [
    {
     "ename": "SyntaxError",
     "evalue": "unterminated string literal (detected at line 1) (2844812082.py, line 1)",
     "output_type": "error",
     "traceback": [
      "\u001b[1;36m  Cell \u001b[1;32mIn[41], line 1\u001b[1;36m\u001b[0m\n\u001b[1;33m    num=int(input(ENTER YOUR 3 DIGIT NUMBER\"))\u001b[0m\n\u001b[1;37m                                           ^\u001b[0m\n\u001b[1;31mSyntaxError\u001b[0m\u001b[1;31m:\u001b[0m unterminated string literal (detected at line 1)\n"
     ]
    }
   ],
   "source": [
    "num=int(input(ENTER YOUR 3 DIGIT NUMBER\")) \n",
    "a= number%10 #a=5\n",
    "number=number// #34\n",
    "b=number%10 #4\n",
    "c=number//10 #3\n",
    "print(a+b+c)\n"
   ]
  },
  {
   "cell_type": "code",
   "execution_count": 40,
   "id": "9b721162-3c16-49a2-8258-3878eff9a349",
   "metadata": {},
   "outputs": [
    {
     "name": "stdin",
     "output_type": "stream",
     "text": [
      "ENTER YOUR 3 DIGIT NUMBER 4\n"
     ]
    },
    {
     "name": "stdout",
     "output_type": "stream",
     "text": [
      "3\n"
     ]
    }
   ],
   "source": [
    "num=int(input(\"ENTER YOUR 3 DIGIT NUMBER\")) \n",
    "a= number%10 #a=5\n",
    "number=number//10 #34\n",
    "b=number%10 #4\n",
    "c=number//10 #3\n",
    "print(a+b+c)\n"
   ]
  },
  {
   "cell_type": "code",
   "execution_count": null,
   "id": "5f4a8413-e94d-4c37-b76d-eac109f49ab8",
   "metadata": {},
   "outputs": [],
   "source": [
    "day2"
   ]
  },
  {
   "cell_type": "raw",
   "id": "77511d23-dbd0-43bc-95d8-f52be8051283",
   "metadata": {},
   "source": [
    "##dir:-is a powerful inbuilt function in python3 which returns list if the attributes and method of any objects (function,modules,string,list,dictionaries)"
   ]
  },
  {
   "cell_type": "code",
   "execution_count": 39,
   "id": "3d1d6eb2-c820-4544-a06f-d01e7caec37b",
   "metadata": {},
   "outputs": [
    {
     "data": {
      "text/plain": [
       "['In',\n",
       " 'Out',\n",
       " '_',\n",
       " '__',\n",
       " '___',\n",
       " '__builtin__',\n",
       " '__builtins__',\n",
       " '__doc__',\n",
       " '__loader__',\n",
       " '__name__',\n",
       " '__package__',\n",
       " '__session__',\n",
       " '__spec__',\n",
       " '_dh',\n",
       " '_i',\n",
       " '_i1',\n",
       " '_i10',\n",
       " '_i11',\n",
       " '_i12',\n",
       " '_i13',\n",
       " '_i14',\n",
       " '_i15',\n",
       " '_i16',\n",
       " '_i17',\n",
       " '_i18',\n",
       " '_i19',\n",
       " '_i2',\n",
       " '_i20',\n",
       " '_i21',\n",
       " '_i22',\n",
       " '_i23',\n",
       " '_i24',\n",
       " '_i25',\n",
       " '_i26',\n",
       " '_i27',\n",
       " '_i28',\n",
       " '_i29',\n",
       " '_i3',\n",
       " '_i30',\n",
       " '_i31',\n",
       " '_i32',\n",
       " '_i33',\n",
       " '_i34',\n",
       " '_i35',\n",
       " '_i36',\n",
       " '_i37',\n",
       " '_i38',\n",
       " '_i39',\n",
       " '_i4',\n",
       " '_i5',\n",
       " '_i6',\n",
       " '_i7',\n",
       " '_i8',\n",
       " '_i9',\n",
       " '_ih',\n",
       " '_ii',\n",
       " '_iii',\n",
       " '_oh',\n",
       " 'a',\n",
       " 'age',\n",
       " 'arr',\n",
       " 'b',\n",
       " 'b2',\n",
       " 'c',\n",
       " 'exit',\n",
       " 'get_ipython',\n",
       " 'i',\n",
       " 'jack',\n",
       " 'l',\n",
       " 'l1',\n",
       " 'l2',\n",
       " 'li',\n",
       " 'n',\n",
       " 'name',\n",
       " 'names',\n",
       " 'number',\n",
       " 'open',\n",
       " 'quit',\n",
       " 's',\n",
       " 's2',\n",
       " 'str1',\n",
       " 't']"
      ]
     },
     "execution_count": 39,
     "metadata": {},
     "output_type": "execute_result"
    }
   ],
   "source": [
    "dir()"
   ]
  },
  {
   "cell_type": "code",
   "execution_count": null,
   "id": "a70e1327-2d6d-42ce-bf18-7f188d921e28",
   "metadata": {},
   "outputs": [],
   "source": [
    "### help is used to return the documentation related the searching keyword or function"
   ]
  },
  {
   "cell_type": "code",
   "execution_count": null,
   "id": "7efd2a28-2c50-4976-b156-e4a2ee1953ea",
   "metadata": {},
   "outputs": [],
   "source": [
    "help(print)"
   ]
  },
  {
   "cell_type": "code",
   "execution_count": 38,
   "id": "aa19c105-fc5b-4e0e-9342-f63871885358",
   "metadata": {},
   "outputs": [
    {
     "name": "stdout",
     "output_type": "stream",
     "text": [
      "140737052591176\n",
      "140737052591336\n",
      "140737052591176\n"
     ]
    }
   ],
   "source": [
    "id and type\n",
    "#variable\n",
    "a=10\n",
    "b=15\n",
    "c=10\n",
    "print(id(a))  #same variable has same variable id\n",
    "print(id(b))\n",
    "print(id(c)) #id is used to return the value of variable\n"
   ]
  },
  {
   "cell_type": "code",
   "execution_count": 37,
   "id": "de78ab49-badb-48f7-af65-17108ddbf8fc",
   "metadata": {},
   "outputs": [
    {
     "name": "stdout",
     "output_type": "stream",
     "text": [
      "140737051200272\n"
     ]
    }
   ],
   "source": [
    "jack=None\n",
    "print(id(jack))"
   ]
  },
  {
   "cell_type": "code",
   "execution_count": 36,
   "id": "b86fc372-4747-4e10-90db-ff3ceaee2b5d",
   "metadata": {},
   "outputs": [
    {
     "name": "stdout",
     "output_type": "stream",
     "text": [
      "<class 'NoneType'>\n"
     ]
    }
   ],
   "source": [
    "jack=None\n",
    "print(type(jack))"
   ]
  },
  {
   "cell_type": "code",
   "execution_count": null,
   "id": "cf7ffe34-22b0-4ddb-83a2-c5ed158e3067",
   "metadata": {},
   "outputs": [],
   "source": [
    "### numeric datatype\n",
    "1) integer, float,complex"
   ]
  },
  {
   "cell_type": "code",
   "execution_count": 35,
   "id": "a0aaf50d-e7fd-4365-9f16-8525e6693774",
   "metadata": {},
   "outputs": [
    {
     "name": "stdout",
     "output_type": "stream",
     "text": [
      "<class 'int'>\n",
      "<class 'float'>\n"
     ]
    }
   ],
   "source": [
    "#type is used to return the data type of the variable\n",
    "a=10\n",
    "b=20.25\n",
    "print(type(a))\n",
    "print(type(b))"
   ]
  },
  {
   "cell_type": "code",
   "execution_count": 34,
   "id": "9b56c998-c4b8-4fa3-930c-136a135661bb",
   "metadata": {},
   "outputs": [
    {
     "name": "stdout",
     "output_type": "stream",
     "text": [
      "<class 'complex'>\n"
     ]
    }
   ],
   "source": [
    "## complex datatype:-a complex is a number that is written in the form of a+bj,here a is real number b represent the imaginary number and j is suffix\n",
    "a=10+20j\n",
    "print(type(a))"
   ]
  },
  {
   "cell_type": "markdown",
   "id": "e662a2f6-3cf3-4d3f-b775-fbf43752cbe9",
   "metadata": {},
   "source": [
    "## sequence:-str,list,bytes,bytearray,tuple,range\n"
   ]
  },
  {
   "cell_type": "markdown",
   "id": "f090bb9e-d630-4eb3-b99e-c2ad20bb024a",
   "metadata": {},
   "source": [
    "# str represent the string , a string is a group of characters,string are enclosed in single qoutes or double qoutes both are valid"
   ]
  },
  {
   "cell_type": "code",
   "execution_count": null,
   "id": "649ed2da-b2d6-4df5-ac3b-f28783619f94",
   "metadata": {},
   "outputs": [],
   "source": [
    "s=\"hello how are you doing today ?\"\n",
    "print(type(s))\n",
    "print(s)"
   ]
  },
  {
   "cell_type": "code",
   "execution_count": null,
   "id": "c3817591-7d4a-4b97-9e0a-cd29cfc559a2",
   "metadata": {},
   "outputs": [],
   "source": [
    "#python does not support character datatype like c and jave it support string"
   ]
  },
  {
   "cell_type": "code",
   "execution_count": null,
   "id": "9a3341ed-4c05-43a5-8bd0-582213bfaff7",
   "metadata": {},
   "outputs": [],
   "source": [
    "a='c'\n",
    "print(type(a))"
   ]
  },
  {
   "cell_type": "code",
   "execution_count": null,
   "id": "0c9adf33-a0fa-4d2b-8188-a99f85674c43",
   "metadata": {},
   "outputs": [],
   "source": [
    "help(list)"
   ]
  },
  {
   "cell_type": "code",
   "execution_count": 32,
   "id": "a2a91a6d-18a5-4b3d-9e5a-fd895b1cff4a",
   "metadata": {},
   "outputs": [
    {
     "name": "stdout",
     "output_type": "stream",
     "text": [
      "<class 'list'>\n",
      "10\n"
     ]
    }
   ],
   "source": [
    "l1=[10,20,30,40,50] #list\n",
    "print(type(l1))\n",
    "print(l1[0])"
   ]
  },
  {
   "cell_type": "code",
   "execution_count": 33,
   "id": "383973af-92d3-456e-a871-04da22e121ae",
   "metadata": {},
   "outputs": [
    {
     "name": "stdout",
     "output_type": "stream",
     "text": [
      "<class 'list'>\n",
      "[1, 2, 3, 4, 5, 6, 7, 8, 9]\n"
     ]
    }
   ],
   "source": [
    "arr=list((1,2,3,4,5,6,7,8,9))#method 2 of creating list\n",
    "print(type(arr))\n",
    "print(arr)"
   ]
  },
  {
   "cell_type": "code",
   "execution_count": null,
   "id": "c1e561ff-4d9b-42a1-9322-86d65e94990f",
   "metadata": {},
   "outputs": [],
   "source": [
    "help(bytes)"
   ]
  },
  {
   "cell_type": "code",
   "execution_count": null,
   "id": "61d94acb-f4a0-4a2e-92e8-fea4f31e4c5e",
   "metadata": {},
   "outputs": [],
   "source": [
    "l1=[10,20,30,40,40,255]\n",
    "print(type(11))\n",
    "b= bytes(l1) #converting the list into bytes \n",
    "print(type(b))\n",
    "print(l1)\n",
    "print()\n",
    "print(b[0])\n"
   ]
  },
  {
   "cell_type": "code",
   "execution_count": 31,
   "id": "e65517a3-76f5-4782-a821-8a0ecccbe782",
   "metadata": {},
   "outputs": [
    {
     "name": "stdout",
     "output_type": "stream",
     "text": [
      "<class 'int'>\n",
      "<class 'int'>\n",
      "<class 'bytearray'>\n",
      "12\n",
      "bytearray(b'\\x00\\x00\\x00\\x00\\x00\\x00\\x00\\x00\\x00\\x00\\x00\\x00')\n",
      "0\n",
      "100\n"
     ]
    }
   ],
   "source": [
    "l2=[10,20,30,40,50]\n",
    "print(type(12))\n",
    "b2=bytearray(12)\n",
    "print(type(12))\n",
    "print(type(b2))\n",
    "print(12)\n",
    "print(b2)\n",
    "print(b2[0])\n",
    "b2[0]=100 #bytearray can be used to item assignment\n",
    "print(b2[0])"
   ]
  },
  {
   "cell_type": "code",
   "execution_count": null,
   "id": "3f17128d-88b6-41c5-bd42-3e36606f21b4",
   "metadata": {},
   "outputs": [],
   "source": [
    "tup=(10,20,30)\n",
    "print(type(tup))\n",
    "print(tup) #printing to the tuple\n",
    "print(tup[0]) #printing the tuple by using the index value"
   ]
  },
  {
   "cell_type": "code",
   "execution_count": null,
   "id": "8af772bc-caf6-4e09-b58d-36be725e6ced",
   "metadata": {},
   "outputs": [],
   "source": [
    "help(range)"
   ]
  },
  {
   "cell_type": "code",
   "execution_count": 30,
   "id": "d696c6fe-4203-4f68-b43d-eb65c6e02680",
   "metadata": {},
   "outputs": [
    {
     "name": "stdout",
     "output_type": "stream",
     "text": [
      "1\n",
      "3\n",
      "5\n",
      "7\n",
      "9\n"
     ]
    }
   ],
   "source": [
    "for i in range(1,10,2):\n",
    "    print(i)"
   ]
  },
  {
   "cell_type": "code",
   "execution_count": 29,
   "id": "69db6aee-0b1a-4190-9735-d87625ca7ddf",
   "metadata": {},
   "outputs": [
    {
     "ename": "SyntaxError",
     "evalue": "invalid decimal literal (3008229575.py, line 3)",
     "output_type": "error",
     "traceback": [
      "\u001b[1;36m  Cell \u001b[1;32mIn[29], line 3\u001b[1;36m\u001b[0m\n\u001b[1;33m    1.set\u001b[0m\n\u001b[1;37m     ^\u001b[0m\n\u001b[1;31mSyntaxError\u001b[0m\u001b[1;31m:\u001b[0m invalid decimal literal\n"
     ]
    }
   ],
   "source": [
    "##set data type \n",
    "two datatype\n",
    "1.set\n",
    "2.frozen set"
   ]
  },
  {
   "cell_type": "code",
   "execution_count": 28,
   "id": "b52f5190-cb75-4b65-984a-1037fa8cc0e7",
   "metadata": {},
   "outputs": [
    {
     "name": "stdout",
     "output_type": "stream",
     "text": [
      "<class 'dict'>\n",
      "<class 'list'>\n",
      "<class 'tuple'>\n"
     ]
    }
   ],
   "source": [
    "s={}\n",
    "l=[]\n",
    "t=()\n",
    "print(type(s)) #set\n",
    "print(type(l)) #list\n",
    "print(type(t)) #tuple"
   ]
  },
  {
   "cell_type": "code",
   "execution_count": 27,
   "id": "0f0ab132-566e-4179-a788-96047168d9b8",
   "metadata": {},
   "outputs": [
    {
     "name": "stdout",
     "output_type": "stream",
     "text": [
      "<class 'set'>\n",
      "<class 'list'>\n",
      "<class 'tuple'>\n"
     ]
    }
   ],
   "source": [
    "s={1}\n",
    "l=[]\n",
    "t=()\n",
    "print(type(s)) #set\n",
    "print(type(l)) #list\n",
    "print(type(t)) #tuple"
   ]
  },
  {
   "cell_type": "code",
   "execution_count": 26,
   "id": "97d9ac70-045c-4ea8-ae2e-f9c967ed38e7",
   "metadata": {},
   "outputs": [
    {
     "name": "stdout",
     "output_type": "stream",
     "text": [
      "{1, 2, 3, 4, 5, 6, 7}\n"
     ]
    }
   ],
   "source": [
    "s={1,1,1,1,2,2,3,3,3,4,5,6,7}\n",
    "print(s)"
   ]
  },
  {
   "cell_type": "code",
   "execution_count": 25,
   "id": "7cadcfaf-3aa2-454c-afb1-71f172855bc8",
   "metadata": {},
   "outputs": [
    {
     "name": "stdout",
     "output_type": "stream",
     "text": [
      "{2, 3, 4, 5, 8, 9}\n"
     ]
    }
   ],
   "source": [
    "s={2,2,2,8,9,9,3,3,3,4,4,5}\n",
    "print(s)"
   ]
  },
  {
   "cell_type": "code",
   "execution_count": 24,
   "id": "0fe94167-b7f4-401e-acb7-cce2c402a91f",
   "metadata": {},
   "outputs": [
    {
     "name": "stdout",
     "output_type": "stream",
     "text": [
      "{1, 2, 3, 4, 12}\n"
     ]
    }
   ],
   "source": [
    "s={1,2,3,4}\n",
    "s.add(12)\n",
    "print(s)"
   ]
  },
  {
   "cell_type": "code",
   "execution_count": 21,
   "id": "52da3b72-69b6-4977-b235-a025e3483f49",
   "metadata": {},
   "outputs": [
    {
     "name": "stdout",
     "output_type": "stream",
     "text": [
      "<class 'frozenset'>\n",
      "frozenset({1, 2, 3, 4, 5})\n"
     ]
    }
   ],
   "source": [
    "s={1,2,3,4,5}\n",
    "s2=frozenset(s) #froze set can not be changed their value like set\n",
    "print(type(s2))\n",
    "print(s2)"
   ]
  },
  {
   "cell_type": "code",
   "execution_count": 22,
   "id": "efcd9b95-0af7-4429-8264-1bf2484d9fda",
   "metadata": {},
   "outputs": [
    {
     "name": "stdout",
     "output_type": "stream",
     "text": [
      " the value of a is 10 b is 20 and c is 30\n",
      "the value of a is 10 b is 20 and c is 30\n"
     ]
    }
   ],
   "source": [
    "a=10\n",
    "b=20\n",
    "c=30\n",
    "#the value of 10 b is 20 and c is 30\n",
    "#first way\n",
    "print(f\" the value of a is {a} b is {b} and c is {c}\")\n",
    "#2nd way\n",
    "print(\"the value of a is {0} b is {1} and c is {2}\".format(a,b,c))"
   ]
  },
  {
   "cell_type": "code",
   "execution_count": null,
   "id": "4aab772c-4e37-47f1-ba56-020f06e1d10d",
   "metadata": {},
   "outputs": [],
   "source": [
    "# oparator:-total 8 type of oparator \n",
    "1.arithmetic oparator\n",
    "2.assignment oparator\n",
    "3.unary minus oparator\n",
    "4.relational oparator\n",
    "5.logical oparator\n",
    "6.bitwise oparator\n",
    "7.memberwise oparator\n",
    "8.identity oparator"
   ]
  },
  {
   "cell_type": "code",
   "execution_count": 23,
   "id": "9d5378bb-b4cc-4549-9423-69b293745097",
   "metadata": {},
   "outputs": [
    {
     "name": "stdout",
     "output_type": "stream",
     "text": [
      "False\n",
      "True\n",
      "False\n",
      "True\n",
      "False\n",
      "True\n"
     ]
    }
   ],
   "source": [
    "#relational oparator\n",
    "a=10\n",
    "b=5\n",
    "print(a<b)\n",
    "print(a>b)\n",
    "print(a==b)\n",
    "print(a!=b)\n",
    "print(a<=b)\n",
    "print(a>=b)"
   ]
  },
  {
   "cell_type": "markdown",
   "id": "88ef56e9-dff0-42af-a1bf-f1d71164fa82",
   "metadata": {},
   "source": [
    "\n",
    "a=10\n",
    "b=20\n",
    "print(a>=15 and b==20)"
   ]
  },
  {
   "cell_type": "code",
   "execution_count": 20,
   "id": "b0e14d7a-ea55-4966-91e5-6024425b7847",
   "metadata": {},
   "outputs": [
    {
     "name": "stdout",
     "output_type": "stream",
     "text": [
      "False\n"
     ]
    }
   ],
   "source": [
    "#logical oparator\n",
    "a=10\n",
    "b=20\n",
    "print(a>=15 and b==20)\n"
   ]
  },
  {
   "cell_type": "code",
   "execution_count": 19,
   "id": "d87fc41a-bc73-402e-a5f0-4beed681eefe",
   "metadata": {},
   "outputs": [
    {
     "name": "stdout",
     "output_type": "stream",
     "text": [
      "0b1010\n",
      "1010\n",
      "0o12\n",
      "12\n"
     ]
    },
    {
     "ename": "TypeError",
     "evalue": "hex() takes exactly one argument (2 given)",
     "output_type": "error",
     "traceback": [
      "\u001b[1;31m---------------------------------------------------------------------------\u001b[0m",
      "\u001b[1;31mTypeError\u001b[0m                                 Traceback (most recent call last)",
      "Cell \u001b[1;32mIn[19], line 6\u001b[0m\n\u001b[0;32m      4\u001b[0m \u001b[38;5;28mprint\u001b[39m(\u001b[38;5;28moct\u001b[39m(a))\u001b[38;5;66;03m#it will print the binary number of a\u001b[39;00m\n\u001b[0;32m      5\u001b[0m \u001b[38;5;28mprint\u001b[39m(\u001b[38;5;28mformat\u001b[39m(a,\u001b[38;5;124m'\u001b[39m\u001b[38;5;124mo\u001b[39m\u001b[38;5;124m'\u001b[39m))\n\u001b[1;32m----> 6\u001b[0m \u001b[38;5;28mprint\u001b[39m(\u001b[38;5;28mhex\u001b[39m(a,\u001b[38;5;124m'\u001b[39m\u001b[38;5;124mb\u001b[39m\u001b[38;5;124m'\u001b[39m))\n",
      "\u001b[1;31mTypeError\u001b[0m: hex() takes exactly one argument (2 given)"
     ]
    }
   ],
   "source": [
    "a=10\n",
    "print(bin(a))#it will print the binary number of a\n",
    "print(format(a,'b'))\n",
    "print(oct(a))#it will print the binary number of a\n",
    "print(format(a,'o'))\n",
    "print(hex(a,'b'))\n"
   ]
  },
  {
   "cell_type": "code",
   "execution_count": 18,
   "id": "f74b05e7-ee07-4f3e-acf8-82acd9c62759",
   "metadata": {},
   "outputs": [
    {
     "name": "stdout",
     "output_type": "stream",
     "text": [
      "1010\n",
      "1011\n"
     ]
    }
   ],
   "source": [
    "a=10  #day3\n",
    "b=11\n",
    "print(format(a,'b'))\n",
    "print(format(b,'b'))\n"
   ]
  },
  {
   "cell_type": "code",
   "execution_count": 17,
   "id": "3a8080dd-bd8a-4ec6-b200-810aeffb7233",
   "metadata": {},
   "outputs": [
    {
     "name": "stdout",
     "output_type": "stream",
     "text": [
      "10\n"
     ]
    }
   ],
   "source": [
    "print(a&b)"
   ]
  },
  {
   "cell_type": "code",
   "execution_count": 16,
   "id": "d63e6a4d-1ba9-47e5-9383-069a074a6f84",
   "metadata": {},
   "outputs": [
    {
     "name": "stdout",
     "output_type": "stream",
     "text": [
      "10\n"
     ]
    }
   ],
   "source": [
    "print(a|b)"
   ]
  },
  {
   "cell_type": "code",
   "execution_count": 15,
   "id": "2a8c46e8-2aba-4653-abe4-6e7646c4f900",
   "metadata": {},
   "outputs": [
    {
     "name": "stdout",
     "output_type": "stream",
     "text": [
      "40\n"
     ]
    }
   ],
   "source": [
    "##leftshift\n",
    "##rightshift\n",
    "print(10<<2)"
   ]
  },
  {
   "cell_type": "code",
   "execution_count": 14,
   "id": "1c494a52-3ed3-451a-aabe-a2c62574d0f9",
   "metadata": {},
   "outputs": [
    {
     "name": "stdout",
     "output_type": "stream",
     "text": [
      "True\n"
     ]
    }
   ],
   "source": [
    "li=[10,20,30,40,50,]\n",
    "print(10 in li)"
   ]
  },
  {
   "cell_type": "code",
   "execution_count": 13,
   "id": "2227d527-dc9c-49bc-a112-893997f9d39b",
   "metadata": {},
   "outputs": [
    {
     "name": "stdout",
     "output_type": "stream",
     "text": [
      "False\n"
     ]
    }
   ],
   "source": [
    "li=[10,20,30,40,50,]\n",
    "print(60 in li)"
   ]
  },
  {
   "cell_type": "markdown",
   "id": "31d730a9-c4ad-496c-9e70-38551fb928d9",
   "metadata": {},
   "source": [
    "## identity oparator\n",
    "#1.is\n",
    "#2.is not"
   ]
  },
  {
   "cell_type": "code",
   "execution_count": 12,
   "id": "c37c2528-09f9-430f-b121-057e2ab75197",
   "metadata": {},
   "outputs": [
    {
     "name": "stdout",
     "output_type": "stream",
     "text": [
      "140737052591176\n",
      "140737052591176\n",
      "True\n",
      "1254062415360\n",
      "1254061353984\n",
      "False\n"
     ]
    }
   ],
   "source": [
    "a=10\n",
    "b=10\n",
    "print(id(a))\n",
    "print(id(b))\n",
    "print(a is b)\n",
    "l1=[10,20,30,]\n",
    "l2=[10,20,30,]\n",
    "print(id(l1))\n",
    "print(id(l2))\n",
    "print(l1 is l2)"
   ]
  },
  {
   "cell_type": "code",
   "execution_count": 11,
   "id": "cfe5ab8f-28a5-4916-8c2d-92917bab295e",
   "metadata": {},
   "outputs": [
    {
     "name": "stdout",
     "output_type": "stream",
     "text": [
      "false\n"
     ]
    }
   ],
   "source": [
    "a=10\n",
    "b=20\n",
    "if a==b:\n",
    "    print(\"true\")\n",
    "else:\n",
    "    print(\"false\")"
   ]
  },
  {
   "cell_type": "code",
   "execution_count": null,
   "id": "bbfc7fb9-b5cb-4306-8337-dfea4e7b8415",
   "metadata": {},
   "outputs": [],
   "source": [
    "#the value of a is 10 b is 20 and c is 30\n",
    "#format,f,\n"
   ]
  },
  {
   "cell_type": "code",
   "execution_count": null,
   "id": "d8beac58-9883-4e42-b196-0dbc3bb07b6f",
   "metadata": {},
   "outputs": [],
   "source": []
  },
  {
   "cell_type": "markdown",
   "id": "dcdd31ab-2c14-46df-b874-a1b8d9fc541c",
   "metadata": {},
   "source": [
    "## input output\n",
    "## write a code to take the value from user and add that value and store in 3rd variable"
   ]
  },
  {
   "cell_type": "code",
   "execution_count": 10,
   "id": "63433fb8-2602-4774-81ec-4a906ceafa34",
   "metadata": {},
   "outputs": [
    {
     "name": "stdin",
     "output_type": "stream",
     "text": [
      "enter the value of a 30\n",
      "enter the value of b 40\n"
     ]
    },
    {
     "name": "stdout",
     "output_type": "stream",
     "text": [
      "70\n"
     ]
    }
   ],
   "source": [
    "a=int(input(\"enter the value of a\"))\n",
    "b=int(input(\"enter the value of b\"))\n",
    "c=a+b\n",
    "print(c)"
   ]
  },
  {
   "cell_type": "code",
   "execution_count": 9,
   "id": "c8db5f20-d7f8-4dc1-8c57-356240a6a929",
   "metadata": {},
   "outputs": [
    {
     "name": "stdin",
     "output_type": "stream",
     "text": [
      "enter the value of a 100\n",
      "enter the value of b 20\n"
     ]
    },
    {
     "name": "stdout",
     "output_type": "stream",
     "text": [
      "80\n"
     ]
    }
   ],
   "source": [
    "a=int(input(\"enter the value of a\"))\n",
    "b=int(input(\"enter the value of b\"))\n",
    "c=a-b\n",
    "print(c)"
   ]
  },
  {
   "cell_type": "code",
   "execution_count": 8,
   "id": "f84932ae-4cf6-49b2-a891-ede530f6a1f5",
   "metadata": {},
   "outputs": [
    {
     "name": "stdin",
     "output_type": "stream",
     "text": [
      "enter the value of a 2\n",
      "enter the value of b 5\n"
     ]
    },
    {
     "name": "stdout",
     "output_type": "stream",
     "text": [
      "10\n"
     ]
    }
   ],
   "source": [
    "a=int(input(\"enter the value of a\"))\n",
    "b=int(input(\"enter the value of b\"))\n",
    "c=a*b\n",
    "print(c)"
   ]
  },
  {
   "cell_type": "code",
   "execution_count": 7,
   "id": "889922b9-e730-4e79-95ce-37d54a531ed1",
   "metadata": {},
   "outputs": [
    {
     "name": "stdin",
     "output_type": "stream",
     "text": [
      "enter the value of a 30\n",
      "enter the value of b 30\n"
     ]
    },
    {
     "name": "stdout",
     "output_type": "stream",
     "text": [
      "1.0\n"
     ]
    }
   ],
   "source": [
    "a=int(input(\"enter the value of a\"))\n",
    "b=int(input(\"enter the value of b\"))\n",
    "c=a/b\n",
    "print(c)"
   ]
  },
  {
   "cell_type": "markdown",
   "id": "1443a910-3b2d-4657-820b-b02656f35e4d",
   "metadata": {},
   "source": [
    "## using import"
   ]
  },
  {
   "cell_type": "code",
   "execution_count": null,
   "id": "82e37b98-c259-4cf1-951f-ee0c56555e01",
   "metadata": {},
   "outputs": [],
   "source": [
    "import math as mt"
   ]
  },
  {
   "cell_type": "code",
   "execution_count": null,
   "id": "e00fa68c-2a91-47c0-b2ad-47a4dff20936",
   "metadata": {},
   "outputs": [],
   "source": [
    "print (mt.pi)"
   ]
  },
  {
   "cell_type": "raw",
   "id": "8b3ff1d0-549f-4894-bca1-bcf2259c8543",
   "metadata": {},
   "source": [
    "import sys\n",
    "print()"
   ]
  },
  {
   "cell_type": "markdown",
   "id": "b7c1d90d-8fa8-47df-9c8f-5f0abc71d322",
   "metadata": {},
   "source": [
    "## control statement"
   ]
  },
  {
   "cell_type": "markdown",
   "id": "9a4d3dd3-07ff-4209-b55c-d611dcd97e4b",
   "metadata": {},
   "source": [
    "#\n",
    "1)if statement \n",
    "2)if....else\n",
    "3)if....else....statement\n",
    "4)while loop\n",
    "5)for loop\n",
    "6)else suite\n",
    "7)break statement\n",
    "8)continue statement\n",
    "9)pass statement\n",
    "10)assert statement\n",
    "11)return statement"
   ]
  },
  {
   "cell_type": "markdown",
   "id": "373c8754-c185-402f-be95-8e037218ad6b",
   "metadata": {},
   "source": [
    "## 1.if statement \n",
    "2.if....else\n",
    "3.f....else....statement\n",
    "4.while loop\n",
    "5.for loop\n",
    "6.else suite\n",
    "7.break statement\n",
    "8.continue statement\n",
    "9.pass statement\n",
    "10.assert statement\n",
    "11.return statement"
   ]
  },
  {
   "cell_type": "markdown",
   "id": "e77b61d5-86f1-42a1-89c0-9225ecb20428",
   "metadata": {},
   "source": [
    "## if statement"
   ]
  },
  {
   "cell_type": "code",
   "execution_count": 6,
   "id": "98144e55-e01c-45ce-aa53-e61052b81dbe",
   "metadata": {},
   "outputs": [
    {
     "name": "stdin",
     "output_type": "stream",
     "text": [
      "enter the age 20\n"
     ]
    },
    {
     "name": "stdout",
     "output_type": "stream",
     "text": [
      "you can give vote\n"
     ]
    }
   ],
   "source": [
    "age=int (input (\"enter the age\"))\n",
    "if age>18:\n",
    "    print(\"you can give vote\")\n",
    "else:\n",
    "    print(\"you are not eligiable for the voting\")\n",
    "    print(\"out from the condition body\")"
   ]
  },
  {
   "cell_type": "code",
   "execution_count": 5,
   "id": "8c02d079-81c0-4615-b740-a1c5803efe86",
   "metadata": {},
   "outputs": [
    {
     "name": "stdin",
     "output_type": "stream",
     "text": [
      "enter the number 3\n"
     ]
    },
    {
     "name": "stdout",
     "output_type": "stream",
     "text": [
      "number is 3\n"
     ]
    }
   ],
   "source": [
    "number=int(input(\"enter the number\"))\n",
    "if number==1:\n",
    "    print(\"number is 1\")\n",
    "elif number==2:\n",
    "    print(\"number is 2\")\n",
    "elif number==3:\n",
    "    print(\"number is 3\")\n",
    "else:\n",
    "    print(\"wrong input\")"
   ]
  },
  {
   "cell_type": "markdown",
   "id": "28d1ff0e-5778-4a1f-ad6b-ce9a32e43684",
   "metadata": {},
   "source": [
    "## while loop:- the while loop in python is used to iterate over a block of code as long as the test expresion is true"
   ]
  },
  {
   "cell_type": "code",
   "execution_count": 4,
   "id": "177d5553-257a-46e4-81ce-aefb34f105d9",
   "metadata": {},
   "outputs": [
    {
     "name": "stdout",
     "output_type": "stream",
     "text": [
      "1\n",
      "2\n",
      "3\n",
      "4\n",
      "5\n",
      "6\n",
      "7\n",
      "8\n",
      "9\n",
      "10\n",
      "outside the loop body\n"
     ]
    }
   ],
   "source": [
    "n=1\n",
    "while(n<=10):\n",
    "    print(n)\n",
    "    n=n+1\n",
    "print(\"outside the loop body\")"
   ]
  },
  {
   "cell_type": "code",
   "execution_count": 3,
   "id": "a7489553-f977-4177-8dec-5d220d32daf1",
   "metadata": {},
   "outputs": [
    {
     "name": "stdout",
     "output_type": "stream",
     "text": [
      "1\n",
      "2\n",
      "3\n",
      "4\n",
      "5\n",
      "6\n",
      "7\n",
      "8\n",
      "9\n"
     ]
    }
   ],
   "source": [
    "for i in range(1,10):\n",
    "    print(i)"
   ]
  },
  {
   "cell_type": "code",
   "execution_count": 2,
   "id": "f4af172e-dd85-4ef5-ab19-cad93a9a4609",
   "metadata": {},
   "outputs": [
    {
     "name": "stdout",
     "output_type": "stream",
     "text": [
      "dhananjay\n",
      "swapnil\n",
      "sushant\n",
      "shubham\n"
     ]
    }
   ],
   "source": [
    "names=['dhananjay','swapnil','sushant','shubham']\n",
    "for name in names:\n",
    "    print(name)"
   ]
  },
  {
   "cell_type": "code",
   "execution_count": 1,
   "id": "435c2a48-681c-4556-9c03-13146b0ede31",
   "metadata": {},
   "outputs": [
    {
     "name": "stdout",
     "output_type": "stream",
     "text": [
      "d\n",
      "h\n",
      "a\n",
      "n\n",
      "a\n",
      "n\n",
      "j\n",
      "a\n",
      "y\n"
     ]
    }
   ],
   "source": [
    "str1='dhananjay'\n",
    "for i in str1:\n",
    "    print(i)"
   ]
  },
  {
   "cell_type": "code",
   "execution_count": null,
   "id": "f8c85a85-c85b-445b-ac19-8954fe4ea9d3",
   "metadata": {},
   "outputs": [],
   "source": [
    "## nesting for loop\n",
    "hip\n",
    "hip\n",
    "hooray"
   ]
  },
  {
   "cell_type": "code",
   "execution_count": null,
   "id": "e1f1e349-c37d-47fa-b198-b4fc368fbf90",
   "metadata": {},
   "outputs": [],
   "source": [
    "for i in range(1,4):\n",
    "    for j in range (1,3):\n",
    "        print('hip')\n",
    "        print('hooray')"
   ]
  },
  {
   "cell_type": "markdown",
   "id": "d6d11b82-5c96-4b90-80d4-31dc4b0d2341",
   "metadata": {},
   "source": [
    "## break statement is used to break the execution of the program immediately when certain condition is true"
   ]
  },
  {
   "cell_type": "code",
   "execution_count": null,
   "id": "f1556292-8ecc-45a2-9348-4a19ea4a3261",
   "metadata": {},
   "outputs": [],
   "source": [
    "count=5 \n",
    "while(count>0):\n",
    "    if(count==3):\n",
    "        break\n",
    "        print(count)\n",
    "        count=count-1"
   ]
  },
  {
   "cell_type": "markdown",
   "id": "fea330ba-f02b-4553-b2fc-1a6c7e451792",
   "metadata": {},
   "source": [
    "## continue statement "
   ]
  },
  {
   "cell_type": "code",
   "execution_count": 12,
   "id": "b4785ab3-73a5-4709-be20-012f099c6c72",
   "metadata": {},
   "outputs": [],
   "source": [
    "for i in range(0,9):\n",
    "    if (i==5):\n",
    "        continue\n",
    "        print(i)"
   ]
  },
  {
   "cell_type": "code",
   "execution_count": null,
   "id": "70cb6ebc-3c2d-4320-a6c0-a819a7183a1a",
   "metadata": {},
   "outputs": [],
   "source": []
  },
  {
   "cell_type": "code",
   "execution_count": 13,
   "id": "d01617e7-c701-434f-9c60-c3a522f33196",
   "metadata": {},
   "outputs": [
    {
     "ename": "SyntaxError",
     "evalue": "expected ':' (2221820623.py, line 1)",
     "output_type": "error",
     "traceback": [
      "\u001b[1;36m  Cell \u001b[1;32mIn[13], line 1\u001b[1;36m\u001b[0m\n\u001b[1;33m    for i in range\u001b[0m\n\u001b[1;37m                  ^\u001b[0m\n\u001b[1;31mSyntaxError\u001b[0m\u001b[1;31m:\u001b[0m expected ':'\n"
     ]
    }
   ],
   "source": [
    "for i in range\n",
    "    if (i==5):(0,9):\n",
    "        continue\n",
    "        print(i)"
   ]
  },
  {
   "cell_type": "code",
   "execution_count": 7,
   "id": "f1a7d3c1-58ef-4922-bbdb-b7072aa15234",
   "metadata": {},
   "outputs": [],
   "source": [
    "def Add():\n",
    "    \"\"\"this is the function\"\"\"\n",
    "    pass"
   ]
  },
  {
   "cell_type": "markdown",
   "id": "ee34579e-040f-4340-a0e7-1fe590c18896",
   "metadata": {},
   "source": [
    "## assert statement:-the assert statement is usefull to check if a paticular condition is fufulled or not it return an assertion error message"
   ]
  },
  {
   "cell_type": "code",
   "execution_count": 4,
   "id": "b253d197-266b-4063-ab8b-d21f4b9e4770",
   "metadata": {},
   "outputs": [
    {
     "name": "stdout",
     "output_type": "stream",
     "text": [
      "<class 'str'>\n"
     ]
    }
   ],
   "source": [
    "a='hello'\n",
    "print(type(a))"
   ]
  },
  {
   "cell_type": "code",
   "execution_count": 5,
   "id": "21d07323-06b9-4366-b5d8-4641c1644930",
   "metadata": {},
   "outputs": [
    {
     "ename": "IndentationError",
     "evalue": "expected an indented block after 'if' statement on line 6 (2652636758.py, line 7)",
     "output_type": "error",
     "traceback": [
      "\u001b[1;36m  Cell \u001b[1;32mIn[5], line 7\u001b[1;36m\u001b[0m\n\u001b[1;33m    listr.append(i)\u001b[0m\n\u001b[1;37m                   ^\u001b[0m\n\u001b[1;31mIndentationError\u001b[0m\u001b[1;31m:\u001b[0m expected an indented block after 'if' statement on line 6\n"
     ]
    }
   ],
   "source": [
    "lis=['sachin','dhoni','virat',180,190,200,20,1,22.5,23.6]\n",
    "listr=[]\n",
    "liint=[]\n",
    "lifl=[]\n",
    "for i in lis:\n",
    "  if isinstance(i,str):\n",
    "listr.append(i)\n",
    "  elif isinstance(i,int):\n",
    "liint.append(i)\n",
    "  else:\n",
    "lif1.append(i)\n",
    "print(lis)\n",
    "print(listr)\n",
    "print(liint)\n",
    "print(lifl)"
   ]
  },
  {
   "cell_type": "code",
   "execution_count": 58,
   "id": "b549cca8-3066-495e-9a3d-57220601dcfb",
   "metadata": {},
   "outputs": [
    {
     "ename": "NameError",
     "evalue": "name 'month' is not defined",
     "output_type": "error",
     "traceback": [
      "\u001b[1;31m---------------------------------------------------------------------------\u001b[0m",
      "\u001b[1;31mNameError\u001b[0m                                 Traceback (most recent call last)",
      "Cell \u001b[1;32mIn[58], line 4\u001b[0m\n\u001b[0;32m      2\u001b[0m yy\u001b[38;5;241m=\u001b[39m\u001b[38;5;241m2024\u001b[39m\n\u001b[0;32m      3\u001b[0m mm\u001b[38;5;241m=\u001b[39m\u001b[38;5;241m6\u001b[39m\n\u001b[1;32m----> 4\u001b[0m \u001b[38;5;28mprint\u001b[39m(calendar,month(yy,mm))\n",
      "\u001b[1;31mNameError\u001b[0m: name 'month' is not defined"
     ]
    }
   ],
   "source": [
    "import calendar\n",
    "yy=2024\n",
    "mm=6\n",
    "print(calendar,month(yy,mm))"
   ]
  },
  {
   "cell_type": "code",
   "execution_count": 12,
   "id": "b1471068-0504-456b-bbd7-4f93ab4f0a40",
   "metadata": {},
   "outputs": [
    {
     "ename": "SyntaxError",
     "evalue": "invalid syntax (404523977.py, line 6)",
     "output_type": "error",
     "traceback": [
      "\u001b[1;36m  Cell \u001b[1;32mIn[12], line 6\u001b[1;36m\u001b[0m\n\u001b[1;33m    the current date is 18-6-2024\u001b[0m\n\u001b[1;37m        ^\u001b[0m\n\u001b[1;31mSyntaxError\u001b[0m\u001b[1;31m:\u001b[0m invalid syntax\n"
     ]
    }
   ],
   "source": [
    "now=datetime.datetime.now()\n",
    "print(\"the current date is {0}-{1}-{2}\".\n",
    "     format(now.day,ow.month,now.year))\n",
    "print(\"the current time is {0}--{1}--{2}\".\n",
    "     format(now.hour,now.minute,now.second))\n",
    "the current date is 18-6-2024\n",
    "the current time is 10-6-2024"
   ]
  },
  {
   "cell_type": "markdown",
   "id": "dd95c5c3-5093-47d4-92a7-c745cbce256e",
   "metadata": {},
   "source": [
    "## function:-in python programming language a function is a self-contained group of statement which are intendedto perform a specific task"
   ]
  },
  {
   "cell_type": "markdown",
   "id": "8ae60d27-8d86-4db4-b3df-f22ea27c0234",
   "metadata": {},
   "source": [
    "## advantages of the function:-\n",
    "1.avoids repetation\n",
    "2.modularization"
   ]
  },
  {
   "cell_type": "code",
   "execution_count": 1,
   "id": "06d61d5c-aaac-4a92-aa7b-89de5389a0df",
   "metadata": {},
   "outputs": [],
   "source": [
    "def msg():#defining of the function\n",
    "    \"\"\"this is the function will write statemen\"\"\"\n",
    "    print(\"hello world\")"
   ]
  },
  {
   "cell_type": "code",
   "execution_count": 3,
   "id": "0b43fb9a-c9cb-48db-9f7b-f88a2771cded",
   "metadata": {},
   "outputs": [
    {
     "name": "stdout",
     "output_type": "stream",
     "text": [
      "hello world\n",
      "hello world\n",
      "hello world\n"
     ]
    }
   ],
   "source": [
    "msg()#calling of the function\n",
    "msg()#calling of the function\n",
    "msg()"
   ]
  },
  {
   "cell_type": "code",
   "execution_count": 10,
   "id": "622b5cc2-ef99-41fb-b528-9c2e0129c669",
   "metadata": {},
   "outputs": [],
   "source": [
    "def johnwick():\n",
    "    \"car was stolen and dog was killed\"\n",
    "    print(\"hello jonathan\")"
   ]
  },
  {
   "cell_type": "code",
   "execution_count": 5,
   "id": "0d71211c-b191-4700-b3b8-6609750e1225",
   "metadata": {},
   "outputs": [
    {
     "name": "stdout",
     "output_type": "stream",
     "text": [
      "hello jonathan\n"
     ]
    }
   ],
   "source": [
    "johnwick(6)"
   ]
  },
  {
   "cell_type": "code",
   "execution_count": 6,
   "id": "83457ab4-87a0-4c84-bc1d-38b6af978671",
   "metadata": {},
   "outputs": [],
   "source": [
    "def msg(str1):\n",
    "    print(str1)"
   ]
  },
  {
   "cell_type": "code",
   "execution_count": 7,
   "id": "c088be0d-2d2d-4c03-a1e2-d85adfc3c30c",
   "metadata": {},
   "outputs": [
    {
     "name": "stdout",
     "output_type": "stream",
     "text": [
      "HELLO WORLD\n"
     ]
    }
   ],
   "source": [
    "msg('HELLO WORLD')"
   ]
  },
  {
   "cell_type": "code",
   "execution_count": 8,
   "id": "fc117c41-ebe5-4b6a-93c1-f462cf1358dc",
   "metadata": {},
   "outputs": [],
   "source": [
    "def msg(str1):\n",
    "    print(str1)"
   ]
  },
  {
   "cell_type": "code",
   "execution_count": 9,
   "id": "42e569ba-e78a-461c-b26e-076390f238e2",
   "metadata": {},
   "outputs": [
    {
     "name": "stdout",
     "output_type": "stream",
     "text": [
      "men are brave\n"
     ]
    }
   ],
   "source": [
    "msg('men are brave')"
   ]
  },
  {
   "cell_type": "markdown",
   "id": "19ec2711-1c2c-4441-8f51-6fdb9612c7df",
   "metadata": {},
   "source": [
    "## write a code to display the wishing message with name using finction"
   ]
  },
  {
   "cell_type": "code",
   "execution_count": 26,
   "id": "9e5c3f84-0301-4cab-908e-8967dc08840f",
   "metadata": {},
   "outputs": [],
   "source": [
    "def wish(name):\n",
    "    print(\"hello \" +name+\" welcome to my club-house\")\n",
    "    print(\"have a great day\")\n",
    "def main():\n",
    "    name=input(\"enter the name\")\n",
    "    wish(name)"
   ]
  },
  {
   "cell_type": "code",
   "execution_count": 27,
   "id": "f2e7aaba-84bd-4ae1-8293-c12af3437694",
   "metadata": {},
   "outputs": [
    {
     "name": "stdout",
     "output_type": "stream",
     "text": [
      "hello varun welcome to my club-house\n",
      "have a great day\n"
     ]
    }
   ],
   "source": [
    "wish('varun')"
   ]
  },
  {
   "cell_type": "code",
   "execution_count": 28,
   "id": "1280697e-453e-488f-8d34-869f5e9bc26a",
   "metadata": {},
   "outputs": [
    {
     "name": "stdin",
     "output_type": "stream",
     "text": [
      "enter the name varun\n"
     ]
    },
    {
     "name": "stdout",
     "output_type": "stream",
     "text": [
      "hello varun welcome to my club-house\n",
      "have a great day\n"
     ]
    }
   ],
   "source": [
    "if __name__==\"__main__\":\n",
    "    main()"
   ]
  },
  {
   "cell_type": "markdown",
   "id": "4acd88d0-be4b-4cff-b80f-fecbd7142e92",
   "metadata": {},
   "source": [
    "# function types\n",
    "1.function with no arguments\n",
    "2.function with required arguments\n",
    "3.function with variable length arguments\n",
    "4.function with keyword based arguments\n",
    "5.functon wilth default arguments"
   ]
  },
  {
   "cell_type": "code",
   "execution_count": 1,
   "id": "8816a3d4-e806-462b-82e3-8bb2315c3585",
   "metadata": {},
   "outputs": [],
   "source": [
    "def sum(a,b):\n",
    "    print(\"sum={0}\".format(a+b))\n",
    "    return"
   ]
  },
  {
   "cell_type": "code",
   "execution_count": 2,
   "id": "3b596271-f2ea-41e0-ad5e-43316c1113b3",
   "metadata": {},
   "outputs": [
    {
     "name": "stdout",
     "output_type": "stream",
     "text": [
      "sum=50\n"
     ]
    }
   ],
   "source": [
    "sum(10,40)"
   ]
  },
  {
   "cell_type": "code",
   "execution_count": 3,
   "id": "07f68e53-3da3-43be-a5da-6037a33087db",
   "metadata": {},
   "outputs": [],
   "source": [
    "def sum (a,b):\n",
    "    a=int(input('enter:'))\n",
    "    b=int(input('enter:'))\n",
    "    return print(a+b)"
   ]
  },
  {
   "cell_type": "code",
   "execution_count": 5,
   "id": "cfc89cba-644b-49ae-9f86-2d8769312f30",
   "metadata": {},
   "outputs": [
    {
     "name": "stdin",
     "output_type": "stream",
     "text": [
      "enter: 50\n",
      "enter: 40\n"
     ]
    },
    {
     "name": "stdout",
     "output_type": "stream",
     "text": [
      "90\n"
     ]
    }
   ],
   "source": [
    "sum()"
   ]
  },
  {
   "cell_type": "code",
   "execution_count": 8,
   "id": "a61692b3-8c9e-4f0f-9edf-0228b69029ba",
   "metadata": {},
   "outputs": [
    {
     "name": "stdin",
     "output_type": "stream",
     "text": [
      "enter: 50\n",
      "enter: 120\n"
     ]
    },
    {
     "name": "stdout",
     "output_type": "stream",
     "text": [
      "170\n"
     ]
    }
   ],
   "source": [
    "sum(1,2)"
   ]
  },
  {
   "cell_type": "code",
   "execution_count": 14,
   "id": "365e3d14-bf30-4b69-b344-1d79f5bd5706",
   "metadata": {},
   "outputs": [
    {
     "name": "stdin",
     "output_type": "stream",
     "text": [
      "enter first value 50\n",
      "enter second value 40\n"
     ]
    },
    {
     "name": "stdout",
     "output_type": "stream",
     "text": [
      "sum=90\n"
     ]
    }
   ],
   "source": [
    "def sum(a,b):\n",
    "    print(\"sum={0}\".format(a+b))\n",
    "    return\n",
    "def main():   \n",
    "    a=int(input(\"enter first value\"))\n",
    "    b=int(input(\"enter second value\"))\n",
    "    sum(a,b)\n",
    "    return   \n",
    "if __name__==\"__main__\":\n",
    "         main()"
   ]
  },
  {
   "cell_type": "code",
   "execution_count": 11,
   "id": "991c6a27-62ea-4281-a726-78f21eaeaf33",
   "metadata": {},
   "outputs": [
    {
     "name": "stdout",
     "output_type": "stream",
     "text": [
      "sum=40\n"
     ]
    }
   ],
   "source": [
    "sum(10,30)"
   ]
  },
  {
   "cell_type": "markdown",
   "id": "f31c2782-826c-4264-8559-6fd948a2ce1d",
   "metadata": {},
   "source": [
    "## write a function to check the number is even or odd:"
   ]
  },
  {
   "cell_type": "code",
   "execution_count": 15,
   "id": "6bd88f16-657e-42fe-95a9-f4bb87f90085",
   "metadata": {},
   "outputs": [],
   "source": [
    "def even_odd(num):\n",
    "    if num%2==0:\n",
    "        return \"the num {0} is even \".format(num)\n",
    "    else:\n",
    "        return\"the num {0} is odd \".format(num)"
   ]
  },
  {
   "cell_type": "code",
   "execution_count": 18,
   "id": "cf6717c3-a44b-459c-be58-75188151a3c0",
   "metadata": {},
   "outputs": [
    {
     "name": "stdout",
     "output_type": "stream",
     "text": [
      "['the num 2 is even ', 'the num 4 is even ', 'the num 3 is odd ', 'the num 5 is odd ', 'the num 12 is even ', 'the num 13 is odd ', 'the num 14 is even ', 'the num 15 is odd ', 'the num 22 is even ', 'the num 21 is odd ', 'the num 23 is odd ', 'the num 25 is odd ', 'the num 26 is even ', 'the num 27 is odd ']\n"
     ]
    }
   ],
   "source": [
    "even_odd(10)\n",
    "l1=[2,4,3,5,12,13,14,15,22,21,23,25,26,27]\n",
    "print(list(map(even_odd,l1)))"
   ]
  },
  {
   "cell_type": "markdown",
   "id": "629d2499-e7e5-4a84-bf70-6fb723f98d61",
   "metadata": {},
   "source": [
    "## write a program to chrck the factorial of the number"
   ]
  },
  {
   "cell_type": "code",
   "execution_count": 32,
   "id": "2a5433e9-2257-4ed4-a687-8ffa11643ea5",
   "metadata": {},
   "outputs": [
    {
     "name": "stdout",
     "output_type": "stream",
     "text": [
      "[2, 24, 120, 720, 5040, 40320, 362880, 3628800]\n"
     ]
    }
   ],
   "source": [
    "def fact(n):\n",
    "    \"\"\"this function will give factorial value\"\"\"\n",
    "    prod=1\n",
    "    while n>=1:\n",
    "        prod=prod*n\n",
    "        n=n-1\n",
    "    return prod\n",
    "l2=[2,4,5,6,7,8,9,10]\n",
    "print(list(map(fact,l2)))"
   ]
  },
  {
   "cell_type": "code",
   "execution_count": 2,
   "id": "0553132f-752f-441e-b35e-506ddfaf4792",
   "metadata": {},
   "outputs": [
    {
     "name": "stdout",
     "output_type": "stream",
     "text": [
      "<class 'int'>\n",
      "<class 'int'>\n"
     ]
    }
   ],
   "source": [
    "#first way\n",
    "lis=[] #by using squarebracket\n",
    "print(type(11))\n",
    "#2 way \n",
    "l2=list((1,2,3,4,5,6)) #by using list method\n",
    "print(type(12))"
   ]
  },
  {
   "cell_type": "code",
   "execution_count": 3,
   "id": "90a46645-4c78-4f02-a094-644bc03e7217",
   "metadata": {},
   "outputs": [
    {
     "name": "stdout",
     "output_type": "stream",
     "text": [
      "Help on method_descriptor:\n",
      "\n",
      "append(self, object, /)\n",
      "    Append object to the end of the list.\n",
      "\n"
     ]
    }
   ],
   "source": [
    "help(list.append)"
   ]
  },
  {
   "cell_type": "code",
   "execution_count": 6,
   "id": "89bb3796-e751-4aff-a4b8-5cc5c55e0000",
   "metadata": {},
   "outputs": [
    {
     "name": "stdout",
     "output_type": "stream",
     "text": [
      "[1, 2, 3, 4, 10]\n"
     ]
    }
   ],
   "source": [
    "li=[1,2,3,4]\n",
    "li.append(10) #push the element in the last index\n",
    "print(li)"
   ]
  },
  {
   "cell_type": "markdown",
   "id": "84103668-ca9d-4036-bbdd-4b96e801bde6",
   "metadata": {},
   "source": [
    "## write a program to take number character and special char from user during the runtime of program and append seperately in the list as number ,char , spclcar "
   ]
  },
  {
   "cell_type": "code",
   "execution_count": 7,
   "id": "00664d33-f74b-4a80-b965-ec09c2315c7c",
   "metadata": {},
   "outputs": [
    {
     "name": "stdin",
     "output_type": "stream",
     "text": [
      " a,d,c,3,4,0,%\n"
     ]
    },
    {
     "name": "stdout",
     "output_type": "stream",
     "text": [
      "['a', 'd', 'c', '3', '4', '0', '%']\n"
     ]
    }
   ],
   "source": [
    "x=input().split(',')\n",
    "print(x)"
   ]
  },
  {
   "cell_type": "code",
   "execution_count": 15,
   "id": "e7af343d-9a9c-4608-945c-0555462a4c32",
   "metadata": {},
   "outputs": [
    {
     "name": "stdin",
     "output_type": "stream",
     "text": [
      " 1,2,3,a,b,c,@,#,$\n"
     ]
    },
    {
     "name": "stdout",
     "output_type": "stream",
     "text": [
      "['a', 'b', 'c']\n",
      "['1', '2', '3']\n",
      "['@', '#', '$']\n"
     ]
    }
   ],
   "source": [
    "x=input().split(',')\n",
    "lalpha=[] #to print alphabet\n",
    "lnum=[] #to print number\n",
    "lspac=[] #to store special char\n",
    "for i in range(0,len(x)):\n",
    "    if x[i].isalpha():\n",
    "        lalpha.append(x[i])\n",
    "    elif x[i].isnumeric():\n",
    "        lnum.append(x[i])\n",
    "    else:\n",
    "        lspac.append(x[i])\n",
    "print(lalpha)\n",
    "print(lnum)\n",
    "print(lspac)\n",
    "    "
   ]
  },
  {
   "cell_type": "code",
   "execution_count": 17,
   "id": "d65ec7ec-b9e3-4a77-bdbb-a6ddabc9fbf5",
   "metadata": {},
   "outputs": [
    {
     "name": "stdout",
     "output_type": "stream",
     "text": [
      "[1, 2, 3, 4, 10]\n"
     ]
    }
   ],
   "source": [
    "lis=[1,2,3,4,5]\n",
    "l2=[]\n",
    "l2=li.copy()\n",
    "print(l2)"
   ]
  },
  {
   "cell_type": "code",
   "execution_count": 24,
   "id": "ac9fedd9-7c48-42c2-9a58-709166a06287",
   "metadata": {},
   "outputs": [
    {
     "data": {
      "text/plain": [
       "3"
      ]
     },
     "execution_count": 24,
     "metadata": {},
     "output_type": "execute_result"
    }
   ],
   "source": [
    "li=[1,1,2,1,2,3,4,5]\n",
    "li.count(1)\n"
   ]
  },
  {
   "cell_type": "code",
   "execution_count": 26,
   "id": "a225b6c2-cccd-4949-b028-e114945e8f61",
   "metadata": {},
   "outputs": [
    {
     "data": {
      "text/plain": [
       "<function list.clear()>"
      ]
     },
     "execution_count": 26,
     "metadata": {},
     "output_type": "execute_result"
    }
   ],
   "source": [
    "li=[1,1,2,1,2,3,4,5]\n",
    "li.clear"
   ]
  },
  {
   "cell_type": "code",
   "execution_count": 30,
   "id": "f4ba1ce1-e29e-40cf-b88d-18b64a4957f3",
   "metadata": {},
   "outputs": [
    {
     "name": "stdout",
     "output_type": "stream",
     "text": [
      "enter the length of the list \n"
     ]
    },
    {
     "name": "stdin",
     "output_type": "stream",
     "text": [
      " 2\n",
      " 3\n"
     ]
    },
    {
     "name": "stdout",
     "output_type": "stream",
     "text": [
      "[3]\n"
     ]
    },
    {
     "name": "stdin",
     "output_type": "stream",
     "text": [
      " 4\n"
     ]
    },
    {
     "name": "stdout",
     "output_type": "stream",
     "text": [
      "[3, 4]\n"
     ]
    }
   ],
   "source": [
    "x=[] #empty list\n",
    "print(\"enter the length of the list \")\n",
    "n=int(input())\n",
    "for i in range(n):\n",
    "    x.append (int(input()))\n",
    "    print(x)"
   ]
  },
  {
   "cell_type": "markdown",
   "id": "bcd72153-8aea-455a-8e01-b5b42adf91be",
   "metadata": {},
   "source": [
    "\n",
    "print(\"enter the length of the list \")\n",
    "n=int(input())\n",
    "for i in range(n):\n",
    "    x.append (int(input()))\n",
    "    print(x)\n",
    "y=int(input('enter the number to check '))\n",
    "c=0\n",
    "for i in (x):\n",
    "    if(y==i):\n",
    "        c=c+1\n",
    "print(\"(0)the number is found times(1)\".format(y,c))"
   ]
  },
  {
   "cell_type": "code",
   "execution_count": 35,
   "id": "78c9f43a-bf25-4d88-8ba3-8e13a59de17f",
   "metadata": {},
   "outputs": [
    {
     "name": "stdout",
     "output_type": "stream",
     "text": [
      "enter the length of the list \n"
     ]
    },
    {
     "name": "stdin",
     "output_type": "stream",
     "text": [
      " 5\n",
      " 1\n",
      " 2\n",
      " 2\n",
      " 3\n",
      " 2\n"
     ]
    },
    {
     "name": "stdout",
     "output_type": "stream",
     "text": [
      "[1, 2, 2, 3, 2]\n"
     ]
    },
    {
     "name": "stdin",
     "output_type": "stream",
     "text": [
      "enter the number to check  2\n"
     ]
    },
    {
     "name": "stdout",
     "output_type": "stream",
     "text": [
      "2 number is found 3 times\n"
     ]
    }
   ],
   "source": [
    "x=[]# empty list\n",
    "print(\"enter the length of the list \") \n",
    "n=int(input())\n",
    "for i in range(n):\n",
    "    x.append(int(input()))\n",
    "print(x) \n",
    "y=int(input('enter the number to check '))\n",
    "c=0 \n",
    "for i in (x): \n",
    "    if(y==i):\n",
    "        c=c+1\n",
    "print(\"{0} number is found {1} times\".format(y,c))"
   ]
  },
  {
   "cell_type": "code",
   "execution_count": 6,
   "id": "7452cbca-ec4a-444a-8329-716852ecf430",
   "metadata": {},
   "outputs": [
    {
     "name": "stdout",
     "output_type": "stream",
     "text": [
      "[1, 2, 3, 4, 5, 4, 6, 7]\n"
     ]
    }
   ],
   "source": [
    "lis=[1,2,3,4]\n",
    "l2=[5,4,6,7]\n",
    "lis.extend(l2)\n",
    "print(lis)"
   ]
  },
  {
   "cell_type": "code",
   "execution_count": 10,
   "id": "cd234727-e17e-4271-a9db-5141ad8fa94c",
   "metadata": {},
   "outputs": [
    {
     "name": "stdout",
     "output_type": "stream",
     "text": [
      "[5, 4, 6, 7, 1, 2, 3, 4, 5, 4, 6, 7]\n"
     ]
    }
   ],
   "source": [
    "l2.extend(lis)\n",
    "print(l2)"
   ]
  },
  {
   "cell_type": "code",
   "execution_count": 11,
   "id": "84d2032d-7526-49ac-85ec-a53ed40c251f",
   "metadata": {},
   "outputs": [
    {
     "name": "stdout",
     "output_type": "stream",
     "text": [
      "[1, 2, 1, 3, 4, 5]\n"
     ]
    }
   ],
   "source": [
    "li=[1,2,3,4,5]\n",
    "li.insert(2,1) #\n",
    "print(li)"
   ]
  },
  {
   "cell_type": "code",
   "execution_count": 20,
   "id": "a65a250c-8af9-4afc-902b-1c9938fd2e8c",
   "metadata": {},
   "outputs": [
    {
     "data": {
      "text/plain": [
       "4"
      ]
     },
     "execution_count": 20,
     "metadata": {},
     "output_type": "execute_result"
    }
   ],
   "source": [
    "li=[1,2,3,4,5,6,7]# pop the element in the list\n",
    "li.pop(3)"
   ]
  },
  {
   "cell_type": "code",
   "execution_count": 21,
   "id": "cdc11ca3-2910-416c-bf51-59b46d4720ff",
   "metadata": {},
   "outputs": [
    {
     "name": "stdout",
     "output_type": "stream",
     "text": [
      "[1, 2, 4, 4, 5, 6, 7, 8, 13, 14]\n"
     ]
    }
   ],
   "source": [
    "li=[5,7,4,8,4,2,1,6,13,14,]#unsorted list\n",
    "li.sort()\n",
    "print(li)"
   ]
  },
  {
   "cell_type": "markdown",
   "id": "f2bd069e-f288-4c33-b862-b84b1938d927",
   "metadata": {},
   "source": [
    "## write a program to find the first and second smallest element in the list"
   ]
  },
  {
   "cell_type": "code",
   "execution_count": 31,
   "id": "f64554e5-2ac0-4bfc-a57b-7cc83a5eb78e",
   "metadata": {},
   "outputs": [
    {
     "name": "stdin",
     "output_type": "stream",
     "text": [
      "total number of list 5\n",
      " 1\n",
      " 2\n",
      " 3\n",
      " 4\n",
      " 5\n"
     ]
    },
    {
     "name": "stdout",
     "output_type": "stream",
     "text": [
      "[1, 2, 3, 4, 5]\n",
      "the first smallest element1\n",
      "the second smallest element is 2\n"
     ]
    }
   ],
   "source": [
    "x=[]# x is a empty list\n",
    "n=int(input(\"total number of list\"))\n",
    "for i in range(n):\n",
    "    x.append(int(input()))\n",
    "print(x)\n",
    "x.sort()\n",
    "print('the first smallest element{0}'.format(x[0]))\n",
    "print('the second smallest element is {0}'.format(x[1]))"
   ]
  },
  {
   "cell_type": "code",
   "execution_count": null,
   "id": "3e7e8bfb-10b5-4c09-b028-c0b69362b8e9",
   "metadata": {},
   "outputs": [],
   "source": []
  }
 ],
 "metadata": {
  "kernelspec": {
   "display_name": "Python 3 (ipykernel)",
   "language": "python",
   "name": "python3"
  },
  "language_info": {
   "codemirror_mode": {
    "name": "ipython",
    "version": 3
   },
   "file_extension": ".py",
   "mimetype": "text/x-python",
   "name": "python",
   "nbconvert_exporter": "python",
   "pygments_lexer": "ipython3",
   "version": "3.11.7"
  }
 },
 "nbformat": 4,
 "nbformat_minor": 5
}
