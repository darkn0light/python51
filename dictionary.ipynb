{
 "cells": [
  {
   "cell_type": "markdown",
   "id": "57a73adb-d068-47c2-b3ba-22042ff38530",
   "metadata": {},
   "source": [
    "## dictionary is a unordered collection of key values pair , it is generally used to operate on huge amount of data.dictionaries are optimized for retrieving data"
   ]
  },
  {
   "cell_type": "code",
   "execution_count": 1,
   "id": "d36d291d-cf90-4d46-b17f-311a9755c613",
   "metadata": {},
   "outputs": [
    {
     "name": "stdout",
     "output_type": "stream",
     "text": [
      "<class 'dict'>\n"
     ]
    }
   ],
   "source": [
    "di={}\n",
    "print(type(di))"
   ]
  },
  {
   "cell_type": "code",
   "execution_count": 6,
   "id": "663bc8c3-e812-4dd9-8ec1-84d8f4ff52d8",
   "metadata": {},
   "outputs": [
    {
     "name": "stdout",
     "output_type": "stream",
     "text": [
      "{'name': 'dhananjay', 'id': 10, 'salary': 100000000}\n"
     ]
    }
   ],
   "source": [
    "py_dict={'name':'dhananjay','id':10,'salary':100000000}\n",
    "print(py_dict)"
   ]
  },
  {
   "cell_type": "code",
   "execution_count": 7,
   "id": "1f0eb4d4-83cf-4dd3-aa54-9f8e651bd878",
   "metadata": {},
   "outputs": [
    {
     "name": "stdout",
     "output_type": "stream",
     "text": [
      "dict_keys(['name', 'id', 'salary'])\n",
      "dict_values(['dhananjay', 10, 100000000])\n"
     ]
    }
   ],
   "source": [
    "print(py_dict.keys())\n",
    "print(py_dict.values())"
   ]
  },
  {
   "cell_type": "markdown",
   "id": "f215ee11-bc57-4c8c-ba5b-d2f73606f58c",
   "metadata": {},
   "source": [
    "## write a program to create a dictionary from keyboard and display the elements"
   ]
  },
  {
   "cell_type": "code",
   "execution_count": 12,
   "id": "bf0c42ed-3111-4cc5-9f38-873376797882",
   "metadata": {},
   "outputs": [
    {
     "name": "stdout",
     "output_type": "stream",
     "text": [
      "no of key insert\n"
     ]
    },
    {
     "name": "stdin",
     "output_type": "stream",
     "text": [
      " 3\n"
     ]
    },
    {
     "name": "stdout",
     "output_type": "stream",
     "text": [
      "enter key:-\n"
     ]
    },
    {
     "name": "stdin",
     "output_type": "stream",
     "text": [
      " red\n"
     ]
    },
    {
     "name": "stdout",
     "output_type": "stream",
     "text": [
      "enter the values:\n"
     ]
    },
    {
     "name": "stdin",
     "output_type": "stream",
     "text": [
      " 1\n"
     ]
    },
    {
     "name": "stdout",
     "output_type": "stream",
     "text": [
      "enter key:-\n"
     ]
    },
    {
     "name": "stdin",
     "output_type": "stream",
     "text": [
      " orange\n"
     ]
    },
    {
     "name": "stdout",
     "output_type": "stream",
     "text": [
      "enter the values:\n"
     ]
    },
    {
     "name": "stdin",
     "output_type": "stream",
     "text": [
      " 2\n"
     ]
    },
    {
     "name": "stdout",
     "output_type": "stream",
     "text": [
      "enter key:-\n"
     ]
    },
    {
     "name": "stdin",
     "output_type": "stream",
     "text": [
      " green\n"
     ]
    },
    {
     "name": "stdout",
     "output_type": "stream",
     "text": [
      "enter the values:\n"
     ]
    },
    {
     "name": "stdin",
     "output_type": "stream",
     "text": [
      " 3\n"
     ]
    },
    {
     "name": "stdout",
     "output_type": "stream",
     "text": [
      "{'red': 1, 'orange': 2, 'green': 3}\n"
     ]
    }
   ],
   "source": [
    "x={} #empty dictionary\n",
    "print(\"no of key insert\")\n",
    "n=int(input())\n",
    "for i in range(n):\n",
    "    print(\"enter key:-\")\n",
    "    k=input() #k is the string form\n",
    "    print(\"enter the values:\")\n",
    "    v=int(input()) \n",
    "    x.update({k:v})\n",
    "print(x)"
   ]
  },
  {
   "cell_type": "code",
   "execution_count": 14,
   "id": "866c67ba-2299-4a61-8a76-e23a9e3fa5b7",
   "metadata": {},
   "outputs": [
    {
     "name": "stdout",
     "output_type": "stream",
     "text": [
      "number of subject\n"
     ]
    },
    {
     "name": "stdin",
     "output_type": "stream",
     "text": [
      " 3\n"
     ]
    },
    {
     "name": "stdout",
     "output_type": "stream",
     "text": [
      "enter name of the subject:-\n"
     ]
    },
    {
     "name": "stdin",
     "output_type": "stream",
     "text": [
      " physis\n"
     ]
    },
    {
     "name": "stdout",
     "output_type": "stream",
     "text": [
      "enter the markes subject:\n"
     ]
    },
    {
     "name": "stdin",
     "output_type": "stream",
     "text": [
      " 95\n"
     ]
    },
    {
     "name": "stdout",
     "output_type": "stream",
     "text": [
      "enter name of the subject:-\n"
     ]
    },
    {
     "name": "stdin",
     "output_type": "stream",
     "text": [
      " biology\n"
     ]
    },
    {
     "name": "stdout",
     "output_type": "stream",
     "text": [
      "enter the markes subject:\n"
     ]
    },
    {
     "name": "stdin",
     "output_type": "stream",
     "text": [
      " 98\n"
     ]
    },
    {
     "name": "stdout",
     "output_type": "stream",
     "text": [
      "enter name of the subject:-\n"
     ]
    },
    {
     "name": "stdin",
     "output_type": "stream",
     "text": [
      " maths\n"
     ]
    },
    {
     "name": "stdout",
     "output_type": "stream",
     "text": [
      "enter the markes subject:\n"
     ]
    },
    {
     "name": "stdin",
     "output_type": "stream",
     "text": [
      " 100\n"
     ]
    },
    {
     "name": "stdout",
     "output_type": "stream",
     "text": [
      "{'physis': 95, 'biology': 98, 'maths': 100}\n"
     ]
    }
   ],
   "source": [
    "x={} #empty dictionary\n",
    "print(\"number of subject\")\n",
    "n=int(input())\n",
    "for i in range(n):\n",
    "    print(\"enter name of the subject:-\")\n",
    "    k=input() #k is the string form\n",
    "    print(\"enter the markes subject:\")\n",
    "    v=int(input()) \n",
    "    x.update({k:v})\n",
    "print(x)"
   ]
  },
  {
   "cell_type": "markdown",
   "id": "b2f7fb69-7dcc-4a24-8be8-1029dbd4c1a5",
   "metadata": {},
   "source": [
    "## clear of dictionary"
   ]
  },
  {
   "cell_type": "code",
   "execution_count": 16,
   "id": "94847532-8c2b-4d09-baae-2cc28f8e7dd2",
   "metadata": {},
   "outputs": [
    {
     "name": "stdout",
     "output_type": "stream",
     "text": [
      "{'physis': 95, 'biology': 98, 'maths': 100}\n",
      "{}\n"
     ]
    }
   ],
   "source": [
    "py_dict={'physis': 95, 'biology': 98, 'maths': 100}\n",
    "print(py_dict)\n",
    "py_dict.clear() # it will remove all the elements from dict\n",
    "print(py_dict)"
   ]
  },
  {
   "cell_type": "code",
   "execution_count": 17,
   "id": "b7f1d64a-3928-49f0-987d-7042f698b9a6",
   "metadata": {},
   "outputs": [
    {
     "name": "stdout",
     "output_type": "stream",
     "text": [
      "Help on method_descriptor:\n",
      "\n",
      "pop(...)\n",
      "    D.pop(k[,d]) -> v, remove specified key and return the corresponding value.\n",
      "    \n",
      "    If the key is not found, return the default if given; otherwise,\n",
      "    raise a KeyError.\n",
      "\n"
     ]
    }
   ],
   "source": [
    "help(dict.pop)"
   ]
  },
  {
   "cell_type": "code",
   "execution_count": 20,
   "id": "44c2f4da-a0eb-4e2d-9d83-376e92afdd05",
   "metadata": {},
   "outputs": [
    {
     "name": "stdout",
     "output_type": "stream",
     "text": [
      "{'physis': 95, 'biology': 98, 'maths': 100}\n",
      "{'physis': 95, 'maths': 100}\n"
     ]
    }
   ],
   "source": [
    "py_dict={'physis': 95, 'biology': 98, 'maths': 100}\n",
    "print(py_dict)\n",
    "py_dict.pop('biology') #it will pop element value biology\n",
    "print(py_dict)"
   ]
  },
  {
   "cell_type": "markdown",
   "id": "a0faa9c2-a2a0-4e7b-852b-2b13c8c8fff9",
   "metadata": {},
   "source": [
    "### function with variable length of argument user can do multiple number addition"
   ]
  },
  {
   "cell_type": "code",
   "execution_count": 21,
   "id": "2374192f-4ecc-4316-8ff0-7b0ae4711806",
   "metadata": {},
   "outputs": [],
   "source": [
    "#syntax:-def add(farg,*args) here fargis the formal arguments and args is the variable length of arguments"
   ]
  },
  {
   "cell_type": "code",
   "execution_count": 7,
   "id": "a9d6d835-4d37-4a45-80e1-62cf3385b490",
   "metadata": {},
   "outputs": [
    {
     "name": "stdout",
     "output_type": "stream",
     "text": [
      "formal argumenent= 10\n",
      "sum of all number 450\n"
     ]
    }
   ],
   "source": [
    "def add(farg,*args):\n",
    "    \"\"\"to add given number\"\"\"\n",
    "    print('formal argumenent=',farg) #print 10\n",
    "    sum=0\n",
    "    for i in args:\n",
    "        sum=sum+i\n",
    "    print(\"sum of all number\",(farg+sum))\n",
    "    return\n",
    "add(10,20,30,40,50,60,70,80,90)"
   ]
  },
  {
   "cell_type": "markdown",
   "id": "aa9979a0-a9cf-41af-abfc-f996b47f26da",
   "metadata": {},
   "source": [
    "## A keyword variabe length arguments is an argument that can accept any number of values provided in the format of keys and values"
   ]
  },
  {
   "cell_type": "code",
   "execution_count": 8,
   "id": "a45ffc6e-e4f9-42bf-8ee5-f0a33331d6f7",
   "metadata": {},
   "outputs": [
    {
     "name": "stdout",
     "output_type": "stream",
     "text": [
      "formal arguments= 1\n",
      "key=rno value=51\n",
      "key=name value=Dhananjay\n",
      "key=marks value=600\n",
      "key=grade value=first\n"
     ]
    }
   ],
   "source": [
    "def display(frag,**kwargs):\n",
    "    print(\"formal arguments=\",frag)\n",
    "    for x,y in kwargs.items():\n",
    "        print('key={} value={}'.format(x,y))\n",
    "display(1,rno=51,name='Dhananjay',marks=600,grade='first')"
   ]
  },
  {
   "cell_type": "code",
   "execution_count": 10,
   "id": "cf40ec80-6740-4415-8d26-fd7b7416065e",
   "metadata": {},
   "outputs": [
    {
     "name": "stdout",
     "output_type": "stream",
     "text": [
      "the addition is 30\n",
      "the subtraction is -10\n"
     ]
    }
   ],
   "source": [
    "#multiple values returning function\n",
    "def sum_sub(a,b):#a=10,b=20 \n",
    "    c=a+b #addition of a and b store in c=-30\n",
    "    d=a-b #subtraction of a and b store in d=-10\n",
    "    return c,d\n",
    "x,y=sum_sub(10,20)\n",
    "print(\"the addition is {}\".format(x))\n",
    "print(\"the subtraction is {}\".format(y))"
   ]
  },
  {
   "cell_type": "code",
   "execution_count": 12,
   "id": "c8fbb0c8-45dc-4ce5-a582-7dcb2b2c17bb",
   "metadata": {},
   "outputs": [
    {
     "name": "stdout",
     "output_type": "stream",
     "text": [
      "the addition is 30\n",
      "the subtraction is -10\n",
      "the division is -3.0\n",
      "the mutiplication is -300\n"
     ]
    }
   ],
   "source": [
    "def sum_sub(a,b,c,d):#a=10,b=20 \n",
    "    c=a+b #addition of a and b store in c=-30\n",
    "    d=a-b #subtraction of a and b store in d=-10\n",
    "    e=c/d\n",
    "    f=c*d\n",
    "    return c,d,e,f\n",
    "x,y,s,t=sum_sub(10,20,60,30)\n",
    "print(\"the addition is {}\".format(x))\n",
    "print(\"the subtraction is {}\".format(y))\n",
    "print(\"the division is {}\".format(s))\n",
    "print(\"the mutiplication is {}\".format(t))"
   ]
  },
  {
   "cell_type": "code",
   "execution_count": 13,
   "id": "2a695f3c-c205-489f-967d-feccef246786",
   "metadata": {},
   "outputs": [
    {
     "name": "stdout",
     "output_type": "stream",
     "text": [
      "add is 30\n",
      "sub is -10\n",
      "multi is 200\n",
      "div is 0.5\n"
     ]
    }
   ],
   "source": [
    "def cal(a,b):\n",
    "    c=a+b\n",
    "    d=a-b\n",
    "    e=a*b\n",
    "    f=a/b\n",
    "    return c,d,e,f\n",
    "p,q,r,s=cal(10,20)   \n",
    "print('add is {}'.format(p))\n",
    "print('sub is {}'.format(q))\n",
    "print('multi is {}'.format(r))\n",
    "print('div is {}'.format(s))\n"
   ]
  },
  {
   "cell_type": "code",
   "execution_count": null,
   "id": "3db3a54e-d7dd-40c7-b84f-97eda95ad947",
   "metadata": {},
   "outputs": [],
   "source": []
  }
 ],
 "metadata": {
  "kernelspec": {
   "display_name": "Python 3 (ipykernel)",
   "language": "python",
   "name": "python3"
  },
  "language_info": {
   "codemirror_mode": {
    "name": "ipython",
    "version": 3
   },
   "file_extension": ".py",
   "mimetype": "text/x-python",
   "name": "python",
   "nbconvert_exporter": "python",
   "pygments_lexer": "ipython3",
   "version": "3.11.7"
  }
 },
 "nbformat": 4,
 "nbformat_minor": 5
}
