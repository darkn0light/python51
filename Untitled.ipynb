{
 "cells": [
  {
   "cell_type": "code",
   "execution_count": null,
   "id": "85431183-438f-419f-b639-dd66c5071c9c",
   "metadata": {},
   "outputs": [],
   "source": [
    "14 june"
   ]
  },
  {
   "cell_type": "code",
   "execution_count": 1,
   "id": "2f86e462-e5be-4193-aca1-04a18de22956",
   "metadata": {},
   "outputs": [
    {
     "name": "stdout",
     "output_type": "stream",
     "text": [
      "10\n"
     ]
    }
   ],
   "source": [
    "##int\n",
    "print(10)"
   ]
  },
  {
   "cell_type": "code",
   "execution_count": 2,
   "id": "6b6438ad-8c92-44aa-b3aa-a9499f2ba8a9",
   "metadata": {},
   "outputs": [
    {
     "name": "stdout",
     "output_type": "stream",
     "text": [
      "10.5\n"
     ]
    }
   ],
   "source": [
    "# float\n",
    "print(10.5)"
   ]
  },
  {
   "cell_type": "code",
   "execution_count": 13,
   "id": "c3a39185-c695-4d9f-a9bc-680dfac4bfc0",
   "metadata": {},
   "outputs": [
    {
     "name": "stdout",
     "output_type": "stream",
     "text": [
      "True\n"
     ]
    }
   ],
   "source": [
    "\n",
    "print(True)"
   ]
  },
  {
   "cell_type": "code",
   "execution_count": null,
   "id": "8e7e92d8-e11a-4969-850d-9b2147f40213",
   "metadata": {},
   "outputs": [],
   "source": [
    "#bool\n",
    "print(True)"
   ]
  },
  {
   "cell_type": "code",
   "execution_count": 5,
   "id": "46bd2e0a-42c4-40ec-ac7e-45cf26080a16",
   "metadata": {},
   "outputs": [
    {
     "name": "stdout",
     "output_type": "stream",
     "text": [
      "dhananjay\n"
     ]
    }
   ],
   "source": [
    "#string\n",
    "print(\"dhananjay\")"
   ]
  },
  {
   "cell_type": "code",
   "execution_count": 6,
   "id": "233b27c5-dff1-4b9c-a45f-5733ca040367",
   "metadata": {},
   "outputs": [
    {
     "name": "stdout",
     "output_type": "stream",
     "text": [
      "(3+5j)\n"
     ]
    }
   ],
   "source": [
    "#complex\n",
    "print(3+5j)"
   ]
  },
  {
   "cell_type": "code",
   "execution_count": 7,
   "id": "7967ed6a-53ab-4d36-a416-7816d08d27ea",
   "metadata": {},
   "outputs": [
    {
     "name": "stdout",
     "output_type": "stream",
     "text": [
      "10 10.5 string\n"
     ]
    }
   ],
   "source": [
    "#list\n",
    "print(10,10.5,\"string\")"
   ]
  },
  {
   "cell_type": "code",
   "execution_count": 8,
   "id": "0ea0bcf1-d8ee-4bce-bcc0-6c66d8f71480",
   "metadata": {},
   "outputs": [
    {
     "name": "stdout",
     "output_type": "stream",
     "text": [
      "[10, 10.5, 'string']\n"
     ]
    }
   ],
   "source": [
    "#list\n",
    "print([10,10.5,\"string\"])"
   ]
  },
  {
   "cell_type": "code",
   "execution_count": 9,
   "id": "7d38a8b9-f274-452c-b012-e93bdd56cfe8",
   "metadata": {},
   "outputs": [
    {
     "name": "stdout",
     "output_type": "stream",
     "text": [
      "(10, 10.5, 'string')\n"
     ]
    }
   ],
   "source": [
    "#tuple\n",
    "print((10,10.5,\"string\"))"
   ]
  },
  {
   "cell_type": "code",
   "execution_count": 10,
   "id": "4412755c-a827-4ad0-a19a-35d99764e6e7",
   "metadata": {},
   "outputs": [
    {
     "name": "stdout",
     "output_type": "stream",
     "text": [
      "{1, 2, 3, 4, 5}\n"
     ]
    }
   ],
   "source": [
    "#set\n",
    "print({1,2,3,4,5,5,5,5,})"
   ]
  },
  {
   "cell_type": "code",
   "execution_count": 12,
   "id": "554e9e5e-266f-4bf6-917b-d9c8f81263e7",
   "metadata": {},
   "outputs": [
    {
     "name": "stdout",
     "output_type": "stream",
     "text": [
      "{'name': 'Dhananjay'}\n"
     ]
    }
   ],
   "source": [
    "#dict\n",
    "print({\"name\":\"Dhananjay\"})"
   ]
  },
  {
   "cell_type": "code",
   "execution_count": 14,
   "id": "be84fac7-1143-43ae-8aa7-a0f1ed4ffd90",
   "metadata": {},
   "outputs": [
    {
     "name": "stdout",
     "output_type": "stream",
     "text": [
      "string/10/10.5\n"
     ]
    }
   ],
   "source": [
    "print(\"string\",10,10.5,sep=\"/\")"
   ]
  },
  {
   "cell_type": "code",
   "execution_count": 15,
   "id": "3d54ce8b-9e00-4c00-91eb-806f893b7b9f",
   "metadata": {},
   "outputs": [
    {
     "name": "stdout",
     "output_type": "stream",
     "text": [
      "hello world\n"
     ]
    }
   ],
   "source": [
    "print(\"hello\",end=\" \")\n",
    "print(\"world\")"
   ]
  },
  {
   "cell_type": "code",
   "execution_count": 25,
   "id": "6fedd72a-01c3-4a28-a962-07d40857f627",
   "metadata": {},
   "outputs": [
    {
     "name": "stdout",
     "output_type": "stream",
     "text": [
      "5\n"
     ]
    }
   ],
   "source": [
    "a=5\n",
    "b=a\n",
    "c=b\n",
    "print(c)"
   ]
  },
  {
   "cell_type": "code",
   "execution_count": 26,
   "id": "1cce774f-a78d-4f5e-a2a7-82d01ccff4da",
   "metadata": {},
   "outputs": [
    {
     "name": "stdout",
     "output_type": "stream",
     "text": [
      "6\n"
     ]
    }
   ],
   "source": [
    "a=b\n",
    "b=c\n",
    "c=6\n",
    "print(c)"
   ]
  },
  {
   "cell_type": "code",
   "execution_count": 27,
   "id": "2b42cd2e-5bf6-4602-968b-aabca3250e09",
   "metadata": {},
   "outputs": [
    {
     "name": "stdout",
     "output_type": "stream",
     "text": [
      "5\n"
     ]
    }
   ],
   "source": [
    "print(b)"
   ]
  },
  {
   "cell_type": "code",
   "execution_count": 28,
   "id": "062af9b4-8a7d-43fe-ae39-533769a48cbd",
   "metadata": {},
   "outputs": [
    {
     "data": {
      "text/plain": [
       "140729553175464"
      ]
     },
     "execution_count": 28,
     "metadata": {},
     "output_type": "execute_result"
    }
   ],
   "source": [
    "id(a)"
   ]
  },
  {
   "cell_type": "code",
   "execution_count": 29,
   "id": "d33fc3cf-1793-4e54-a118-8dce1e4a3c34",
   "metadata": {},
   "outputs": [
    {
     "data": {
      "text/plain": [
       "140729553175464"
      ]
     },
     "execution_count": 29,
     "metadata": {},
     "output_type": "execute_result"
    }
   ],
   "source": [
    "id(b)"
   ]
  },
  {
   "cell_type": "code",
   "execution_count": 30,
   "id": "c4f5a55c-4bd1-42ae-9fe9-47e8e48bc987",
   "metadata": {},
   "outputs": [
    {
     "name": "stdout",
     "output_type": "stream",
     "text": [
      "10\n"
     ]
    }
   ],
   "source": [
    "a=b=c=10\n",
    "print(a)"
   ]
  },
  {
   "cell_type": "code",
   "execution_count": 33,
   "id": "35490812-1ffe-4251-8815-b375d24554c9",
   "metadata": {},
   "outputs": [
    {
     "name": "stdout",
     "output_type": "stream",
     "text": [
      "dhananjay\n",
      "ram\n"
     ]
    }
   ],
   "source": [
    " student1=\"dhananjay\"\n",
    "student2=\"ram\"\n",
    "print(student1)\n",
    "print(student2)"
   ]
  },
  {
   "cell_type": "code",
   "execution_count": 34,
   "id": "9ff0a069-9cca-4c0f-a9cf-7a488988f1fd",
   "metadata": {},
   "outputs": [
    {
     "name": "stdin",
     "output_type": "stream",
     "text": [
      " dhananjay\n"
     ]
    },
    {
     "data": {
      "text/plain": [
       "'dhananjay'"
      ]
     },
     "execution_count": 34,
     "metadata": {},
     "output_type": "execute_result"
    }
   ],
   "source": [
    "input()"
   ]
  },
  {
   "cell_type": "code",
   "execution_count": 36,
   "id": "94ed65c4-ecff-408f-a204-79b8ac4fd16b",
   "metadata": {},
   "outputs": [
    {
     "name": "stdin",
     "output_type": "stream",
     "text": [
      " 5\n"
     ]
    },
    {
     "name": "stdout",
     "output_type": "stream",
     "text": [
      "5\n"
     ]
    }
   ],
   "source": [
    "num1=input()\n",
    "print(num1)"
   ]
  },
  {
   "cell_type": "code",
   "execution_count": 39,
   "id": "054a1ee6-b7a1-4ff8-88b3-515c300d4b80",
   "metadata": {},
   "outputs": [
    {
     "name": "stdin",
     "output_type": "stream",
     "text": [
      " 5\n",
      " 4\n"
     ]
    },
    {
     "name": "stdout",
     "output_type": "stream",
     "text": [
      "54\n"
     ]
    }
   ],
   "source": [
    "num1=input()\n",
    "num2=input()\n",
    "num3=num1+num2\n",
    "print(num3)"
   ]
  },
  {
   "cell_type": "code",
   "execution_count": 40,
   "id": "abcf24b6-7885-4a29-8b15-51e1912ecd54",
   "metadata": {},
   "outputs": [
    {
     "name": "stdin",
     "output_type": "stream",
     "text": [
      " 5\n",
      " 4\n"
     ]
    },
    {
     "name": "stdout",
     "output_type": "stream",
     "text": [
      "9\n"
     ]
    }
   ],
   "source": [
    "num1=int(input())\n",
    "num2=int(input())\n",
    "print(num1+num2)"
   ]
  },
  {
   "cell_type": "code",
   "execution_count": 41,
   "id": "d6415940-9f31-49e2-a820-139351dad48b",
   "metadata": {},
   "outputs": [
    {
     "name": "stdin",
     "output_type": "stream",
     "text": [
      " 10\n",
      " 10\n"
     ]
    },
    {
     "name": "stdout",
     "output_type": "stream",
     "text": [
      "20\n"
     ]
    }
   ],
   "source": [
    "num1=int(input())\n",
    "num2=int(input())\n",
    "print(num1+num2)"
   ]
  },
  {
   "cell_type": "code",
   "execution_count": 43,
   "id": "b24e3052-2d9c-4f60-ac15-d0732734a3c5",
   "metadata": {},
   "outputs": [
    {
     "data": {
      "text/plain": [
       "1"
      ]
     },
     "execution_count": 43,
     "metadata": {},
     "output_type": "execute_result"
    }
   ],
   "source": [
    "int(True)"
   ]
  },
  {
   "cell_type": "code",
   "execution_count": 44,
   "id": "8e10430c-c88c-4e71-960e-57f5ee42f5c3",
   "metadata": {},
   "outputs": [
    {
     "data": {
      "text/plain": [
       "0"
      ]
     },
     "execution_count": 44,
     "metadata": {},
     "output_type": "execute_result"
    }
   ],
   "source": [
    "int(False)"
   ]
  },
  {
   "cell_type": "code",
   "execution_count": 45,
   "id": "22c1a42d-d060-4a9b-a66e-d6616ab10c1d",
   "metadata": {},
   "outputs": [
    {
     "data": {
      "text/plain": [
       "'10'"
      ]
     },
     "execution_count": 45,
     "metadata": {},
     "output_type": "execute_result"
    }
   ],
   "source": [
    "str(10)"
   ]
  },
  {
   "cell_type": "code",
   "execution_count": 46,
   "id": "902e5983-bf0a-40f4-84c9-578b7bf910cb",
   "metadata": {},
   "outputs": [
    {
     "data": {
      "text/plain": [
       "'10.5'"
      ]
     },
     "execution_count": 46,
     "metadata": {},
     "output_type": "execute_result"
    }
   ],
   "source": [
    "str(10.5)"
   ]
  },
  {
   "cell_type": "code",
   "execution_count": 48,
   "id": "3c47a9c2-1ca4-4335-acdf-9f762e80776c",
   "metadata": {},
   "outputs": [
    {
     "data": {
      "text/plain": [
       "'(5+6j)'"
      ]
     },
     "execution_count": 48,
     "metadata": {},
     "output_type": "execute_result"
    }
   ],
   "source": [
    "str(5+6j)"
   ]
  },
  {
   "cell_type": "code",
   "execution_count": 53,
   "id": "1e2495b5-0761-472c-a63e-8efd55b42164",
   "metadata": {},
   "outputs": [
    {
     "name": "stdin",
     "output_type": "stream",
     "text": [
      " 9\n",
      " 8\n",
      " 5\n"
     ]
    },
    {
     "name": "stdout",
     "output_type": "stream",
     "text": [
      "22\n"
     ]
    }
   ],
   "source": [
    "num1=int(input())\n",
    "num2=int(input())\n",
    "num3=int(input())\n",
    "print(num1+num2+num3)"
   ]
  },
  {
   "cell_type": "code",
   "execution_count": 52,
   "id": "34f5c60e-33c0-4625-950f-5eee80153583",
   "metadata": {},
   "outputs": [
    {
     "name": "stdout",
     "output_type": "stream",
     "text": [
      "12\n",
      "8\n",
      "20\n",
      "5.0\n",
      "0\n",
      "5\n",
      "25\n"
     ]
    }
   ],
   "source": [
    "#oparators\n",
    "#artmatical oparators\n",
    "print(10+2) #addition\n",
    "print(10-2) #sutraction\n",
    "print(10*2) #multipication\n",
    "print(10/2) #division\n",
    "print(10%2) #modulas\n",
    "print(10//2) #flooar div\n",
    "print(5**2454) #exponant"
   ]
  },
  {
   "cell_type": "code",
   "execution_count": 65,
   "id": "607428e8-71a4-4641-a5be-be5838ec4cfc",
   "metadata": {},
   "outputs": [
    {
     "ename": "SyntaxError",
     "evalue": "unterminated string literal (detected at line 1) (2844812082.py, line 1)",
     "output_type": "error",
     "traceback": [
      "\u001b[1;36m  Cell \u001b[1;32mIn[65], line 1\u001b[1;36m\u001b[0m\n\u001b[1;33m    num=int(input(ENTER YOUR 3 DIGIT NUMBER\"))\u001b[0m\n\u001b[1;37m                                           ^\u001b[0m\n\u001b[1;31mSyntaxError\u001b[0m\u001b[1;31m:\u001b[0m unterminated string literal (detected at line 1)\n"
     ]
    }
   ],
   "source": [
    "num=int(input(ENTER YOUR 3 DIGIT NUMBER\")) \n",
    "a= number%10 #a=5\n",
    "number=number// #34\n",
    "b=number%10 #4\n",
    "c=number//10 #3\n",
    "print(a+b+c)\n"
   ]
  },
  {
   "cell_type": "code",
   "execution_count": 69,
   "id": "9b721162-3c16-49a2-8258-3878eff9a349",
   "metadata": {},
   "outputs": [
    {
     "name": "stdin",
     "output_type": "stream",
     "text": [
      "ENTER YOUR 3 DIGIT NUMBER 345\n"
     ]
    },
    {
     "ename": "NameError",
     "evalue": "name 'number' is not defined",
     "output_type": "error",
     "traceback": [
      "\u001b[1;31m---------------------------------------------------------------------------\u001b[0m",
      "\u001b[1;31mNameError\u001b[0m                                 Traceback (most recent call last)",
      "Cell \u001b[1;32mIn[69], line 2\u001b[0m\n\u001b[0;32m      1\u001b[0m num\u001b[38;5;241m=\u001b[39m\u001b[38;5;28mint\u001b[39m(\u001b[38;5;28minput\u001b[39m(\u001b[38;5;124m\"\u001b[39m\u001b[38;5;124mENTER YOUR 3 DIGIT NUMBER\u001b[39m\u001b[38;5;124m\"\u001b[39m)) \n\u001b[1;32m----> 2\u001b[0m a\u001b[38;5;241m=\u001b[39m number\u001b[38;5;241m%\u001b[39m\u001b[38;5;241m10\u001b[39m \u001b[38;5;66;03m#a=5\u001b[39;00m\n\u001b[0;32m      3\u001b[0m number\u001b[38;5;241m=\u001b[39mnumber\u001b[38;5;241m/\u001b[39m\u001b[38;5;241m/\u001b[39m\u001b[38;5;241m10\u001b[39m \u001b[38;5;66;03m#34\u001b[39;00m\n\u001b[0;32m      4\u001b[0m b\u001b[38;5;241m=\u001b[39mnumber\u001b[38;5;241m%\u001b[39m\u001b[38;5;241m10\u001b[39m \u001b[38;5;66;03m#4\u001b[39;00m\n",
      "\u001b[1;31mNameError\u001b[0m: name 'number' is not defined"
     ]
    }
   ],
   "source": [
    "num=int(input(\"ENTER YOUR 3 DIGIT NUMBER\")) \n",
    "a= number%10 #a=5\n",
    "number=number//10 #34\n",
    "b=number%10 #4\n",
    "c=number//10 #3\n",
    "print(a+b+c)\n"
   ]
  },
  {
   "cell_type": "code",
   "execution_count": null,
   "id": "5f4a8413-e94d-4c37-b76d-eac109f49ab8",
   "metadata": {},
   "outputs": [],
   "source": []
  }
 ],
 "metadata": {
  "kernelspec": {
   "display_name": "Python 3 (ipykernel)",
   "language": "python",
   "name": "python3"
  },
  "language_info": {
   "codemirror_mode": {
    "name": "ipython",
    "version": 3
   },
   "file_extension": ".py",
   "mimetype": "text/x-python",
   "name": "python",
   "nbconvert_exporter": "python",
   "pygments_lexer": "ipython3",
   "version": "3.11.7"
  }
 },
 "nbformat": 4,
 "nbformat_minor": 5
}
