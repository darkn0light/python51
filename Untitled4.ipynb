{
 "cells": [
  {
   "cell_type": "code",
   "execution_count": 17,
   "id": "258656f5-f099-4aa8-a705-b1fb8570e67d",
   "metadata": {},
   "outputs": [],
   "source": [
    "def is_even(num):\n",
    "    \"\"\"this function retuens if a given number is odd or even input- any valid integer output-odd/even \"\"\"\n",
    "    if type(num)==int:\n",
    "        if num%2==0:\n",
    "            return \"num is even\"\n",
    "        else:\n",
    "            return \"num is odd\"\n",
    "    else:\n",
    "         return \"invalid input\"\n",
    "        "
   ]
  },
  {
   "cell_type": "code",
   "execution_count": null,
   "id": "33558dad-95c3-4270-b5fb-4521ca17e15c",
   "metadata": {},
   "outputs": [],
   "source": []
  },
  {
   "cell_type": "code",
   "execution_count": 12,
   "id": "2c2357ff-398c-4617-986c-3fbb0997907a",
   "metadata": {},
   "outputs": [
    {
     "data": {
      "text/plain": [
       "'invalid input'"
      ]
     },
     "execution_count": 12,
     "metadata": {},
     "output_type": "execute_result"
    }
   ],
   "source": [
    "is_even('dhananjay') #actual data while calling function is called argument"
   ]
  },
  {
   "cell_type": "code",
   "execution_count": 19,
   "id": "49c9e632-95b0-4004-87b1-80fe63f5855b",
   "metadata": {},
   "outputs": [
    {
     "name": "stdout",
     "output_type": "stream",
     "text": [
      "num is odd\n",
      "num is even\n",
      "num is odd\n",
      "num is even\n",
      "num is odd\n",
      "num is even\n",
      "num is odd\n",
      "num is even\n",
      "num is odd\n",
      "num is even\n"
     ]
    }
   ],
   "source": [
    "for i in range(1,11):\n",
    "    x= is_even(i)\n",
    "    print(x)"
   ]
  },
  {
   "cell_type": "code",
   "execution_count": 18,
   "id": "68d82b49-e16a-4ed1-b3c9-d2804a8a9e6a",
   "metadata": {},
   "outputs": [
    {
     "name": "stdout",
     "output_type": "stream",
     "text": [
      "this function retuens if a given number is odd or even input- any valid integer output-odd/even \n"
     ]
    }
   ],
   "source": [
    "print(is_even.__doc__)"
   ]
  },
  {
   "cell_type": "markdown",
   "id": "8b4adc58-b364-4c8f-8a3b-4ca9794f4a2e",
   "metadata": {},
   "source": [
    "### types of arguments\n",
    "1.default argument\n",
    "2.positional argument\n",
    "3.keyword argument"
   ]
  },
  {
   "cell_type": "code",
   "execution_count": 24,
   "id": "021822bc-7ccb-454f-8183-e8e96ad0d3ed",
   "metadata": {},
   "outputs": [],
   "source": [
    "def power (a=1,b=1):\n",
    "    return a**b"
   ]
  },
  {
   "cell_type": "code",
   "execution_count": 25,
   "id": "8b317814-f079-4e50-b4f3-002d28da9994",
   "metadata": {},
   "outputs": [
    {
     "data": {
      "text/plain": [
       "8"
      ]
     },
     "execution_count": 25,
     "metadata": {},
     "output_type": "execute_result"
    }
   ],
   "source": [
    "power(2,3)"
   ]
  },
  {
   "cell_type": "code",
   "execution_count": 26,
   "id": "4953d018-34f1-4132-8a80-0f0a1a6d03be",
   "metadata": {},
   "outputs": [
    {
     "data": {
      "text/plain": [
       "8"
      ]
     },
     "execution_count": 26,
     "metadata": {},
     "output_type": "execute_result"
    }
   ],
   "source": [
    "#keyword argument\n",
    "power(b=3,a=2)"
   ]
  },
  {
   "cell_type": "markdown",
   "id": "5bbb1d76-b3cf-4847-b9ba-18bcdf9a644e",
   "metadata": {},
   "source": [
    "## * args and **kwrgs are special python keyword that are used to pass the variable length of the functon"
   ]
  },
  {
   "cell_type": "code",
   "execution_count": 28,
   "id": "6b96289e-510e-4b04-980c-c1e9a41a6d94",
   "metadata": {},
   "outputs": [],
   "source": [
    "#  *args\n",
    "def multiply(*args):\n",
    "    product = 1\n",
    "\n",
    "    for i in args:\n",
    "        product=product*i\n",
    "\n",
    "    print(args)\n",
    "    return product"
   ]
  },
  {
   "cell_type": "code",
   "execution_count": 31,
   "id": "f1ecb436-adf5-4420-bb86-6acf1d22d1bd",
   "metadata": {},
   "outputs": [
    {
     "name": "stdout",
     "output_type": "stream",
     "text": [
      "(1, 2, 3, 4, 5, 6, 7, 8, 9, 10)\n"
     ]
    },
    {
     "data": {
      "text/plain": [
       "3628800"
      ]
     },
     "execution_count": 31,
     "metadata": {},
     "output_type": "execute_result"
    }
   ],
   "source": [
    "multiply(1,2,3,4,5,6,7,8,9,10)"
   ]
  },
  {
   "cell_type": "code",
   "execution_count": 47,
   "id": "481f73f7-4d8e-4771-9a2b-9568b2a4e375",
   "metadata": {},
   "outputs": [
    {
     "name": "stdout",
     "output_type": "stream",
     "text": [
      "India ---> Delhi\n",
      "srilanka ---> colombo\n",
      "nepal ---> kathymandu\n",
      "pakistan ---> islamabad\n"
     ]
    }
   ],
   "source": [
    "display(India=\"Delhi\",srilanka=\"colombo\",nepal=\"kathymandu\",pakistan=\"islamabad\")"
   ]
  },
  {
   "cell_type": "code",
   "execution_count": 45,
   "id": "ac7d92e5-c07c-4f42-8e65-4f07635f47ea",
   "metadata": {},
   "outputs": [],
   "source": [
    "def display(**kwargs):\n",
    "    for (key,value) in kwargs.items():\n",
    "        print(key,\"--->\",value)"
   ]
  },
  {
   "cell_type": "code",
   "execution_count": 46,
   "id": "c8a4bcb2-2895-4389-bf66-ed01c09e5a0b",
   "metadata": {},
   "outputs": [
    {
     "name": "stdout",
     "output_type": "stream",
     "text": [
      "india ---> Delhi\n",
      "srilanka ---> colombo\n",
      "nepal ---> kathymandu\n",
      "pakistan ---> islamabad\n"
     ]
    }
   ],
   "source": [
    "display(india=\"Delhi\",srilanka=\"colombo\",nepal=\"kathymandu\",pakistan=\"islamabad\")"
   ]
  },
  {
   "cell_type": "markdown",
   "id": "a3aff02b-a7d5-4c42-80e6-23f4bbfbc5e4",
   "metadata": {},
   "source": [
    "## function without return statement"
   ]
  },
  {
   "cell_type": "code",
   "execution_count": 48,
   "id": "1cc776bb-a49b-4112-896e-c031161bdd0a",
   "metadata": {},
   "outputs": [
    {
     "name": "stdout",
     "output_type": "stream",
     "text": [
      "None\n"
     ]
    }
   ],
   "source": [
    "l=[1,2,3,4]\n",
    "print(l.append(5))"
   ]
  },
  {
   "cell_type": "code",
   "execution_count": null,
   "id": "ac1d23d7-8489-405c-88f8-db36445fecd6",
   "metadata": {},
   "outputs": [],
   "source": []
  }
 ],
 "metadata": {
  "kernelspec": {
   "display_name": "Python 3 (ipykernel)",
   "language": "python",
   "name": "python3"
  },
  "language_info": {
   "codemirror_mode": {
    "name": "ipython",
    "version": 3
   },
   "file_extension": ".py",
   "mimetype": "text/x-python",
   "name": "python",
   "nbconvert_exporter": "python",
   "pygments_lexer": "ipython3",
   "version": "3.11.7"
  }
 },
 "nbformat": 4,
 "nbformat_minor": 5
}
