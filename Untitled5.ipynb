{
 "cells": [
  {
   "cell_type": "code",
   "execution_count": 2,
   "id": "e10f1f8d-691e-4c62-8b85-2a06ed64bdc5",
   "metadata": {},
   "outputs": [
    {
     "name": "stdout",
     "output_type": "stream",
     "text": [
      "hello-how-are-you!"
     ]
    }
   ],
   "source": [
    "#hello-how-are-you!\n",
    "print('hello','how','are','you',sep='-',end='!')"
   ]
  },
  {
   "cell_type": "code",
   "execution_count": 5,
   "id": "c7feb608-a14c-4d9a-a726-ed3501e5bb82",
   "metadata": {},
   "outputs": [
    {
     "name": "stdout",
     "output_type": "stream",
     "text": [
      "Dhananjay-dinesh-jog."
     ]
    }
   ],
   "source": [
    "print('Dhananjay','dinesh','jog',sep='-',end='.')"
   ]
  },
  {
   "cell_type": "code",
   "execution_count": 7,
   "id": "4b03e1c2-e3e2-4d02-b302-2f66e8d8a92a",
   "metadata": {},
   "outputs": [
    {
     "data": {
      "text/plain": [
       "['__add__',\n",
       " '__class__',\n",
       " '__contains__',\n",
       " '__delattr__',\n",
       " '__dir__',\n",
       " '__doc__',\n",
       " '__eq__',\n",
       " '__format__',\n",
       " '__ge__',\n",
       " '__getattribute__',\n",
       " '__getitem__',\n",
       " '__getnewargs__',\n",
       " '__getstate__',\n",
       " '__gt__',\n",
       " '__hash__',\n",
       " '__init__',\n",
       " '__init_subclass__',\n",
       " '__iter__',\n",
       " '__le__',\n",
       " '__len__',\n",
       " '__lt__',\n",
       " '__mod__',\n",
       " '__mul__',\n",
       " '__ne__',\n",
       " '__new__',\n",
       " '__reduce__',\n",
       " '__reduce_ex__',\n",
       " '__repr__',\n",
       " '__rmod__',\n",
       " '__rmul__',\n",
       " '__setattr__',\n",
       " '__sizeof__',\n",
       " '__str__',\n",
       " '__subclasshook__',\n",
       " 'capitalize',\n",
       " 'casefold',\n",
       " 'center',\n",
       " 'count',\n",
       " 'encode',\n",
       " 'endswith',\n",
       " 'expandtabs',\n",
       " 'find',\n",
       " 'format',\n",
       " 'format_map',\n",
       " 'index',\n",
       " 'isalnum',\n",
       " 'isalpha',\n",
       " 'isascii',\n",
       " 'isdecimal',\n",
       " 'isdigit',\n",
       " 'isidentifier',\n",
       " 'islower',\n",
       " 'isnumeric',\n",
       " 'isprintable',\n",
       " 'isspace',\n",
       " 'istitle',\n",
       " 'isupper',\n",
       " 'join',\n",
       " 'ljust',\n",
       " 'lower',\n",
       " 'lstrip',\n",
       " 'maketrans',\n",
       " 'partition',\n",
       " 'removeprefix',\n",
       " 'removesuffix',\n",
       " 'replace',\n",
       " 'rfind',\n",
       " 'rindex',\n",
       " 'rjust',\n",
       " 'rpartition',\n",
       " 'rsplit',\n",
       " 'rstrip',\n",
       " 'split',\n",
       " 'splitlines',\n",
       " 'startswith',\n",
       " 'strip',\n",
       " 'swapcase',\n",
       " 'title',\n",
       " 'translate',\n",
       " 'upper',\n",
       " 'zfill']"
      ]
     },
     "execution_count": 7,
     "metadata": {},
     "output_type": "execute_result"
    }
   ],
   "source": [
    "dir(str)"
   ]
  },
  {
   "cell_type": "raw",
   "id": "44424116-3366-445b-9fea-e9c29cfd42b2",
   "metadata": {},
   "source": [
    "using"
   ]
  },
  {
   "cell_type": "code",
   "execution_count": 9,
   "id": "4b26764f-9f4d-4989-b623-24531764fda0",
   "metadata": {},
   "outputs": [
    {
     "name": "stdout",
     "output_type": "stream",
     "text": [
      "Help on method_descriptor:\n",
      "\n",
      "capitalize(self, /)\n",
      "    Return a capitalized version of the string.\n",
      "    \n",
      "    More specifically, make the first character have upper case and the rest lower\n",
      "    case.\n",
      "\n"
     ]
    }
   ],
   "source": [
    "help(str.capitalize)"
   ]
  },
  {
   "cell_type": "code",
   "execution_count": 10,
   "id": "ec4b6483-990c-4baf-a372-93699487319d",
   "metadata": {},
   "outputs": [
    {
     "name": "stdout",
     "output_type": "stream",
     "text": [
      "Dhananjay\n"
     ]
    }
   ],
   "source": [
    "a='dhananjay'\n",
    "print(str.capitalize(a))"
   ]
  },
  {
   "cell_type": "code",
   "execution_count": 11,
   "id": "c9351daf-4e88-45b8-84d3-e9017fef1e96",
   "metadata": {},
   "outputs": [
    {
     "data": {
      "text/plain": [
       "'Dhananjay'"
      ]
     },
     "execution_count": 11,
     "metadata": {},
     "output_type": "execute_result"
    }
   ],
   "source": [
    "a.capitalize()"
   ]
  },
  {
   "cell_type": "code",
   "execution_count": 13,
   "id": "526b5c57-a220-440b-82d8-d43f8435863b",
   "metadata": {},
   "outputs": [
    {
     "data": {
      "text/plain": [
       "'Knight'"
      ]
     },
     "execution_count": 13,
     "metadata": {},
     "output_type": "execute_result"
    }
   ],
   "source": [
    "b='knight'\n",
    "b.capitalize()"
   ]
  },
  {
   "cell_type": "code",
   "execution_count": 14,
   "id": "c2545dce-bd13-42b3-ac89-8d6ef717ad6f",
   "metadata": {},
   "outputs": [
    {
     "name": "stdout",
     "output_type": "stream",
     "text": [
      "Help on method_descriptor:\n",
      "\n",
      "casefold(self, /)\n",
      "    Return a version of the string suitable for caseless comparisons.\n",
      "\n"
     ]
    }
   ],
   "source": [
    "help(str.casefold)"
   ]
  },
  {
   "cell_type": "code",
   "execution_count": 15,
   "id": "b60162d9-c6a8-44c4-b94b-e9f64af07f49",
   "metadata": {},
   "outputs": [
    {
     "name": "stdout",
     "output_type": "stream",
     "text": [
      "dhananjay\n",
      "arun\n",
      "shubham\n"
     ]
    }
   ],
   "source": [
    "a='DhaNanJay'\n",
    "b='ARUN'\n",
    "c='shubham'\n",
    "print(a.casefold())\n",
    "print(str.casefold(b))\n",
    "print(str.casefold(c))"
   ]
  },
  {
   "cell_type": "code",
   "execution_count": 16,
   "id": "9f7d9efd-1043-4feb-8fb7-49661daf5f9c",
   "metadata": {},
   "outputs": [
    {
     "name": "stdout",
     "output_type": "stream",
     "text": [
      "Help on method_descriptor:\n",
      "\n",
      "center(self, width, fillchar=' ', /)\n",
      "    Return a centered string of length width.\n",
      "    \n",
      "    Padding is done using the specified fill character (default is a space).\n",
      "\n"
     ]
    }
   ],
   "source": [
    "help(str.center)"
   ]
  },
  {
   "cell_type": "code",
   "execution_count": 18,
   "id": "f162f3ff-0831-48ef-8eb5-bd413472857d",
   "metadata": {},
   "outputs": [
    {
     "name": "stdout",
     "output_type": "stream",
     "text": [
      "                                               hello                                                \n"
     ]
    }
   ],
   "source": [
    "a='hello'\n",
    "print(a.center(100))"
   ]
  },
  {
   "cell_type": "code",
   "execution_count": 26,
   "id": "fa9117a4-3c1a-4c71-9a95-112a2e5632bb",
   "metadata": {},
   "outputs": [
    {
     "name": "stdout",
     "output_type": "stream",
     "text": [
      "                                     hello                                      \n",
      "*************************************hello**************************************\n"
     ]
    }
   ],
   "source": [
    "a='hello'\n",
    "print(a.center(80))\n",
    "print(a.center(80,'*'))"
   ]
  },
  {
   "cell_type": "code",
   "execution_count": 27,
   "id": "b218c701-d5f3-4c45-956b-417b7135f56f",
   "metadata": {},
   "outputs": [
    {
     "name": "stdout",
     "output_type": "stream",
     "text": [
      "Help on method_descriptor:\n",
      "\n",
      "count(...)\n",
      "    S.count(sub[, start[, end]]) -> int\n",
      "    \n",
      "    Return the number of non-overlapping occurrences of substring sub in\n",
      "    string S[start:end].  Optional arguments start and end are\n",
      "    interpreted as in slice notation.\n",
      "\n"
     ]
    }
   ],
   "source": [
    "help(str.count)"
   ]
  },
  {
   "cell_type": "code",
   "execution_count": 1,
   "id": "2ee7582a-4c66-4637-b9fe-4ba923749d4f",
   "metadata": {},
   "outputs": [
    {
     "name": "stdin",
     "output_type": "stream",
     "text": [
      "write a string jay jay narayan narayan hari hari\n",
      "write the sub string to find in main string narayan\n"
     ]
    },
    {
     "name": "stdout",
     "output_type": "stream",
     "text": [
      "jay jay narayan narayan hari hari\n",
      "2\n"
     ]
    }
   ],
   "source": [
    "s=input(\"write a string\")\n",
    "search=input('write the sub string to find in main string')\n",
    "result=s.count(search)\n",
    "print(s)\n",
    "print(result)"
   ]
  },
  {
   "cell_type": "code",
   "execution_count": 2,
   "id": "c1a80209-6735-4c6f-b55f-68ba7be6b193",
   "metadata": {},
   "outputs": [
    {
     "data": {
      "text/plain": [
       "b'dhananjay'"
      ]
     },
     "execution_count": 2,
     "metadata": {},
     "output_type": "execute_result"
    }
   ],
   "source": [
    "a='dhananjay'\n",
    "a.encode()"
   ]
  },
  {
   "cell_type": "code",
   "execution_count": 3,
   "id": "351c97b0-cd47-4f61-ad73-fa5ec096e878",
   "metadata": {},
   "outputs": [
    {
     "name": "stdout",
     "output_type": "stream",
     "text": [
      "Help on method_descriptor:\n",
      "\n",
      "endswith(...)\n",
      "    S.endswith(suffix[, start[, end]]) -> bool\n",
      "    \n",
      "    Return True if S ends with the specified suffix, False otherwise.\n",
      "    With optional start, test S beginning at that position.\n",
      "    With optional end, stop comparing S at that position.\n",
      "    suffix can also be a tuple of strings to try.\n",
      "\n"
     ]
    }
   ],
   "source": [
    "help(str.endswith)"
   ]
  },
  {
   "cell_type": "code",
   "execution_count": 5,
   "id": "b03ea030-d52f-4d6a-8811-d95c34d4fa2b",
   "metadata": {},
   "outputs": [
    {
     "name": "stdin",
     "output_type": "stream",
     "text": [
      "write a string men are brave\n"
     ]
    },
    {
     "name": "stdout",
     "output_type": "stream",
     "text": [
      "men are brave\n",
      "False\n"
     ]
    }
   ],
   "source": [
    "s=input('write a string')\n",
    "print(s)\n",
    "res=s.endswith('.')\n",
    "print(res)"
   ]
  },
  {
   "cell_type": "code",
   "execution_count": 6,
   "id": "fe9c0276-dc26-46bf-9cb5-ee74fe562107",
   "metadata": {},
   "outputs": [
    {
     "name": "stdout",
     "output_type": "stream",
     "text": [
      "Help on method_descriptor:\n",
      "\n",
      "expandtabs(self, /, tabsize=8)\n",
      "    Return a copy where all tab characters are expanded using spaces.\n",
      "    \n",
      "    If tabsize is not given, a tab size of 8 characters is assumed.\n",
      "\n"
     ]
    }
   ],
   "source": [
    "help(str.expandtabs)"
   ]
  },
  {
   "cell_type": "code",
   "execution_count": 8,
   "id": "2da21e12-4533-49f2-a146-49ef3f1fd949",
   "metadata": {},
   "outputs": [
    {
     "name": "stdout",
     "output_type": "stream",
     "text": [
      "Their  is no tomorrow\n",
      "Their  is no tomorrow\n"
     ]
    }
   ],
   "source": [
    "a='Their  is no tomorrow'\n",
    "print(a.expandtabs())\n",
    "print(str.expandtabs(a))"
   ]
  },
  {
   "cell_type": "code",
   "execution_count": 9,
   "id": "2c01528b-4e64-4f5b-88e4-0eb51e25da6a",
   "metadata": {},
   "outputs": [
    {
     "name": "stdout",
     "output_type": "stream",
     "text": [
      "Help on method_descriptor:\n",
      "\n",
      "find(...)\n",
      "    S.find(sub[, start[, end]]) -> int\n",
      "    \n",
      "    Return the lowest index in S where substring sub is found,\n",
      "    such that sub is contained within S[start:end].  Optional\n",
      "    arguments start and end are interpreted as in slice notation.\n",
      "    \n",
      "    Return -1 on failure.\n",
      "\n"
     ]
    }
   ],
   "source": [
    "help(str.find)"
   ]
  },
  {
   "cell_type": "code",
   "execution_count": 10,
   "id": "b96e1f42-8743-445b-8ab3-931aff05a9ba",
   "metadata": {},
   "outputs": [
    {
     "name": "stdin",
     "output_type": "stream",
     "text": [
      "write a string is this the golden land\n",
      "enter the sub-string to check the lowest index the golden land\n"
     ]
    },
    {
     "name": "stdout",
     "output_type": "stream",
     "text": [
      "8\n"
     ]
    }
   ],
   "source": [
    "s=input(\"write a string\")\n",
    "search=input(\"enter the sub-string to check the lowest index\")\n",
    "res=s.find(search)\n",
    "print(res)"
   ]
  },
  {
   "cell_type": "code",
   "execution_count": 11,
   "id": "895136de-cb82-4528-b3be-1c510885d24a",
   "metadata": {},
   "outputs": [
    {
     "name": "stdin",
     "output_type": "stream",
     "text": [
      "write a string water water everywhere nor a drop to drink\n",
      "enter the sub-string to check the lowest index a drop to drink\n"
     ]
    },
    {
     "name": "stdout",
     "output_type": "stream",
     "text": [
      "27\n"
     ]
    }
   ],
   "source": [
    "s=input(\"write a string\")\n",
    "search=input(\"enter the sub-string to check the lowest index\")\n",
    "res=s.find(search)\n",
    "print(res)"
   ]
  },
  {
   "cell_type": "code",
   "execution_count": 12,
   "id": "4a5de069-ce1a-4dd8-b657-b50e54005244",
   "metadata": {},
   "outputs": [
    {
     "name": "stdin",
     "output_type": "stream",
     "text": [
      "write a string hello to all my friends\n",
      "enter the sub-string to check the lowest index how are you\n"
     ]
    },
    {
     "name": "stdout",
     "output_type": "stream",
     "text": [
      "-1\n"
     ]
    }
   ],
   "source": [
    "s=input(\"write a string\")\n",
    "search=input(\"enter the sub-string to check the lowest index\")\n",
    "res=s.find(search)\n",
    "print(res)"
   ]
  },
  {
   "cell_type": "code",
   "execution_count": 13,
   "id": "28d28113-af9b-4710-94ef-58c143451a0c",
   "metadata": {},
   "outputs": [
    {
     "name": "stdout",
     "output_type": "stream",
     "text": [
      "Help on method_descriptor:\n",
      "\n",
      "format(...)\n",
      "    S.format(*args, **kwargs) -> str\n",
      "    \n",
      "    Return a formatted version of S, using substitutions from args and kwargs.\n",
      "    The substitutions are identified by braces ('{' and '}').\n",
      "\n"
     ]
    }
   ],
   "source": [
    "help(str.format)"
   ]
  },
  {
   "cell_type": "code",
   "execution_count": 15,
   "id": "623d1cd1-8974-433a-b7c8-c6c2a8bad756",
   "metadata": {},
   "outputs": [
    {
     "name": "stdout",
     "output_type": "stream",
     "text": [
      "Help on method_descriptor:\n",
      "\n",
      "index(...)\n",
      "    S.index(sub[, start[, end]]) -> int\n",
      "    \n",
      "    Return the lowest index in S where substring sub is found,\n",
      "    such that sub is contained within S[start:end].  Optional\n",
      "    arguments start and end are interpreted as in slice notation.\n",
      "    \n",
      "    Raises ValueError when the substring is not found.\n",
      "\n"
     ]
    }
   ],
   "source": [
    "help(str.index)"
   ]
  },
  {
   "cell_type": "code",
   "execution_count": 16,
   "id": "9cd9a692-965f-40f0-8158-162ad4b00945",
   "metadata": {},
   "outputs": [
    {
     "name": "stdin",
     "output_type": "stream",
     "text": [
      "write a string i am dj how are you \n",
      "enter the sub-string to check the lowest index hoe are you \n"
     ]
    },
    {
     "ename": "ValueError",
     "evalue": "substring not found",
     "output_type": "error",
     "traceback": [
      "\u001b[1;31m---------------------------------------------------------------------------\u001b[0m",
      "\u001b[1;31mValueError\u001b[0m                                Traceback (most recent call last)",
      "Cell \u001b[1;32mIn[16], line 3\u001b[0m\n\u001b[0;32m      1\u001b[0m s\u001b[38;5;241m=\u001b[39m\u001b[38;5;28minput\u001b[39m(\u001b[38;5;124m\"\u001b[39m\u001b[38;5;124mwrite a string\u001b[39m\u001b[38;5;124m\"\u001b[39m)\n\u001b[0;32m      2\u001b[0m search\u001b[38;5;241m=\u001b[39m\u001b[38;5;28minput\u001b[39m(\u001b[38;5;124m\"\u001b[39m\u001b[38;5;124menter the sub-string to check the lowest index\u001b[39m\u001b[38;5;124m\"\u001b[39m)\n\u001b[1;32m----> 3\u001b[0m res\u001b[38;5;241m=\u001b[39ms\u001b[38;5;241m.\u001b[39mindex(search)\n\u001b[0;32m      4\u001b[0m \u001b[38;5;28mprint\u001b[39m(res)\n",
      "\u001b[1;31mValueError\u001b[0m: substring not found"
     ]
    }
   ],
   "source": [
    "s=input(\"write a string\")\n",
    "search=input(\"enter the sub-string to check the lowest index\")\n",
    "res=s.index(search)\n",
    "print(res)"
   ]
  },
  {
   "cell_type": "code",
   "execution_count": 17,
   "id": "7bdc9f04-9a70-4497-a136-e520436062a0",
   "metadata": {},
   "outputs": [
    {
     "name": "stdout",
     "output_type": "stream",
     "text": [
      "6\n",
      "34\n",
      "-1\n"
     ]
    }
   ],
   "source": [
    "a='hello how are you hello i am fine,how are you '\n",
    "print(a.index('how'))\n",
    "print(a.index('how',14))\n",
    "print(a.find('how',14,25))"
   ]
  },
  {
   "cell_type": "code",
   "execution_count": null,
   "id": "b39e9671-806a-460f-a283-afe74b9fb3b0",
   "metadata": {},
   "outputs": [],
   "source": []
  }
 ],
 "metadata": {
  "kernelspec": {
   "display_name": "Python 3 (ipykernel)",
   "language": "python",
   "name": "python3"
  },
  "language_info": {
   "codemirror_mode": {
    "name": "ipython",
    "version": 3
   },
   "file_extension": ".py",
   "mimetype": "text/x-python",
   "name": "python",
   "nbconvert_exporter": "python",
   "pygments_lexer": "ipython3",
   "version": "3.11.7"
  }
 },
 "nbformat": 4,
 "nbformat_minor": 5
}
