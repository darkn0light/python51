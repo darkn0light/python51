{
 "cells": [
  {
   "cell_type": "code",
   "execution_count": 17,
   "id": "258656f5-f099-4aa8-a705-b1fb8570e67d",
   "metadata": {},
   "outputs": [],
   "source": [
    "def is_even(num):\n",
    "    \"\"\"this function retuens if a given number is odd or even input- any valid integer output-odd/even \"\"\"\n",
    "    if type(num)==int:\n",
    "        if num%2==0:\n",
    "            return \"num is even\"\n",
    "        else:\n",
    "            return \"num is odd\"\n",
    "    else:\n",
    "         return \"invalid input\"\n",
    "        "
   ]
  },
  {
   "cell_type": "code",
   "execution_count": null,
   "id": "33558dad-95c3-4270-b5fb-4521ca17e15c",
   "metadata": {},
   "outputs": [],
   "source": []
  },
  {
   "cell_type": "code",
   "execution_count": 12,
   "id": "2c2357ff-398c-4617-986c-3fbb0997907a",
   "metadata": {},
   "outputs": [
    {
     "data": {
      "text/plain": [
       "'invalid input'"
      ]
     },
     "execution_count": 12,
     "metadata": {},
     "output_type": "execute_result"
    }
   ],
   "source": [
    "is_even('dhananjay') #actual data while calling function is called argument"
   ]
  },
  {
   "cell_type": "code",
   "execution_count": 19,
   "id": "49c9e632-95b0-4004-87b1-80fe63f5855b",
   "metadata": {},
   "outputs": [
    {
     "name": "stdout",
     "output_type": "stream",
     "text": [
      "num is odd\n",
      "num is even\n",
      "num is odd\n",
      "num is even\n",
      "num is odd\n",
      "num is even\n",
      "num is odd\n",
      "num is even\n",
      "num is odd\n",
      "num is even\n"
     ]
    }
   ],
   "source": [
    "for i in range(1,11):\n",
    "    x= is_even(i)\n",
    "    print(x)"
   ]
  },
  {
   "cell_type": "code",
   "execution_count": 18,
   "id": "68d82b49-e16a-4ed1-b3c9-d2804a8a9e6a",
   "metadata": {},
   "outputs": [
    {
     "name": "stdout",
     "output_type": "stream",
     "text": [
      "this function retuens if a given number is odd or even input- any valid integer output-odd/even \n"
     ]
    }
   ],
   "source": [
    "print(is_even.__doc__)"
   ]
  },
  {
   "cell_type": "markdown",
   "id": "8b4adc58-b364-4c8f-8a3b-4ca9794f4a2e",
   "metadata": {},
   "source": [
    "### types of arguments\n",
    "1.default argument\n",
    "2.positional argument\n",
    "3.keyword argument"
   ]
  },
  {
   "cell_type": "code",
   "execution_count": 24,
   "id": "021822bc-7ccb-454f-8183-e8e96ad0d3ed",
   "metadata": {},
   "outputs": [],
   "source": [
    "def power (a=1,b=1):\n",
    "    return a**b"
   ]
  },
  {
   "cell_type": "code",
   "execution_count": 25,
   "id": "8b317814-f079-4e50-b4f3-002d28da9994",
   "metadata": {},
   "outputs": [
    {
     "data": {
      "text/plain": [
       "8"
      ]
     },
     "execution_count": 25,
     "metadata": {},
     "output_type": "execute_result"
    }
   ],
   "source": [
    "power(2,3)"
   ]
  },
  {
   "cell_type": "code",
   "execution_count": 26,
   "id": "4953d018-34f1-4132-8a80-0f0a1a6d03be",
   "metadata": {},
   "outputs": [
    {
     "data": {
      "text/plain": [
       "8"
      ]
     },
     "execution_count": 26,
     "metadata": {},
     "output_type": "execute_result"
    }
   ],
   "source": [
    "#keyword argument\n",
    "power(b=3,a=2)"
   ]
  },
  {
   "cell_type": "markdown",
   "id": "5bbb1d76-b3cf-4847-b9ba-18bcdf9a644e",
   "metadata": {},
   "source": [
    "## * args and **kwrgs are special python keyword that are used to pass the variable length of the functon"
   ]
  },
  {
   "cell_type": "code",
   "execution_count": 28,
   "id": "6b96289e-510e-4b04-980c-c1e9a41a6d94",
   "metadata": {},
   "outputs": [],
   "source": [
    "#  *args\n",
    "def multiply(*args):\n",
    "    product = 1\n",
    "\n",
    "    for i in args:\n",
    "        product=product*i\n",
    "\n",
    "    print(args)\n",
    "    return product"
   ]
  },
  {
   "cell_type": "code",
   "execution_count": 31,
   "id": "f1ecb436-adf5-4420-bb86-6acf1d22d1bd",
   "metadata": {},
   "outputs": [
    {
     "name": "stdout",
     "output_type": "stream",
     "text": [
      "(1, 2, 3, 4, 5, 6, 7, 8, 9, 10)\n"
     ]
    },
    {
     "data": {
      "text/plain": [
       "3628800"
      ]
     },
     "execution_count": 31,
     "metadata": {},
     "output_type": "execute_result"
    }
   ],
   "source": [
    "multiply(1,2,3,4,5,6,7,8,9,10)"
   ]
  },
  {
   "cell_type": "code",
   "execution_count": 47,
   "id": "481f73f7-4d8e-4771-9a2b-9568b2a4e375",
   "metadata": {},
   "outputs": [
    {
     "name": "stdout",
     "output_type": "stream",
     "text": [
      "India ---> Delhi\n",
      "srilanka ---> colombo\n",
      "nepal ---> kathymandu\n",
      "pakistan ---> islamabad\n"
     ]
    }
   ],
   "source": [
    "display(India=\"Delhi\",srilanka=\"colombo\",nepal=\"kathymandu\",pakistan=\"islamabad\")"
   ]
  },
  {
   "cell_type": "code",
   "execution_count": 45,
   "id": "ac7d92e5-c07c-4f42-8e65-4f07635f47ea",
   "metadata": {},
   "outputs": [],
   "source": [
    "def display(**kwargs):\n",
    "    for (key,value) in kwargs.items():\n",
    "        print(key,\"--->\",value)"
   ]
  },
  {
   "cell_type": "code",
   "execution_count": 46,
   "id": "c8a4bcb2-2895-4389-bf66-ed01c09e5a0b",
   "metadata": {},
   "outputs": [
    {
     "name": "stdout",
     "output_type": "stream",
     "text": [
      "india ---> Delhi\n",
      "srilanka ---> colombo\n",
      "nepal ---> kathymandu\n",
      "pakistan ---> islamabad\n"
     ]
    }
   ],
   "source": [
    "display(india=\"Delhi\",srilanka=\"colombo\",nepal=\"kathymandu\",pakistan=\"islamabad\")"
   ]
  },
  {
   "cell_type": "markdown",
   "id": "a3aff02b-a7d5-4c42-80e6-23f4bbfbc5e4",
   "metadata": {},
   "source": [
    "## function without return statement"
   ]
  },
  {
   "cell_type": "code",
   "execution_count": 3,
   "id": "1cc776bb-a49b-4112-896e-c031161bdd0a",
   "metadata": {},
   "outputs": [
    {
     "name": "stdout",
     "output_type": "stream",
     "text": [
      "None\n",
      "[1, 2, 3, 4, 5]\n"
     ]
    }
   ],
   "source": [
    "l=[1,2,3,4]\n",
    "print(l.append(5))\n",
    "print(l)"
   ]
  },
  {
   "cell_type": "markdown",
   "id": "0a626a7c-7d5a-4896-9f77-3443783b2924",
   "metadata": {},
   "source": [
    "### variable scope"
   ]
  },
  {
   "cell_type": "code",
   "execution_count": 4,
   "id": "e694bd19-e108-4cd4-a899-76040cb41159",
   "metadata": {},
   "outputs": [
    {
     "name": "stdout",
     "output_type": "stream",
     "text": [
      "5\n",
      "6\n",
      "5\n"
     ]
    }
   ],
   "source": [
    "def g(y):\n",
    "    print(x)\n",
    "    print(x+1)\n",
    "\n",
    "x=5\n",
    "g(x)\n",
    "print(x)"
   ]
  },
  {
   "cell_type": "code",
   "execution_count": 6,
   "id": "833a928d-e924-44ec-9c4a-0461f78f3319",
   "metadata": {},
   "outputs": [
    {
     "name": "stdout",
     "output_type": "stream",
     "text": [
      "3\n",
      "5\n"
     ]
    }
   ],
   "source": [
    "def f(y):\n",
    "    x = 1\n",
    "    x +=1\n",
    "    print(x+1)\n",
    "x = 5\n",
    "f(x)\n",
    "print(x)\n",
    "    "
   ]
  },
  {
   "cell_type": "code",
   "execution_count": 10,
   "id": "1a9b59d2-8464-4410-aad8-63445bcc6270",
   "metadata": {},
   "outputs": [
    {
     "ename": "UnboundLocalError",
     "evalue": "cannot access local variable 'x' where it is not associated with a value",
     "output_type": "error",
     "traceback": [
      "\u001b[1;31m---------------------------------------------------------------------------\u001b[0m",
      "\u001b[1;31mUnboundLocalError\u001b[0m                         Traceback (most recent call last)",
      "Cell \u001b[1;32mIn[10], line 5\u001b[0m\n\u001b[0;32m      2\u001b[0m     x \u001b[38;5;241m+\u001b[39m\u001b[38;5;241m=\u001b[39m \u001b[38;5;241m1\u001b[39m\n\u001b[0;32m      4\u001b[0m x \u001b[38;5;241m=\u001b[39m \u001b[38;5;241m5\u001b[39m\n\u001b[1;32m----> 5\u001b[0m h(x)\n\u001b[0;32m      6\u001b[0m \u001b[38;5;28mprint\u001b[39m(x)\n",
      "Cell \u001b[1;32mIn[10], line 2\u001b[0m, in \u001b[0;36mh\u001b[1;34m(y)\u001b[0m\n\u001b[0;32m      1\u001b[0m \u001b[38;5;28;01mdef\u001b[39;00m \u001b[38;5;21mh\u001b[39m(y):\n\u001b[1;32m----> 2\u001b[0m     x \u001b[38;5;241m+\u001b[39m\u001b[38;5;241m=\u001b[39m \u001b[38;5;241m1\u001b[39m\n",
      "\u001b[1;31mUnboundLocalError\u001b[0m: cannot access local variable 'x' where it is not associated with a value"
     ]
    }
   ],
   "source": [
    "def h(y):\n",
    "    x += 1\n",
    "\n",
    "x = 5\n",
    "h(x)\n",
    "print(x)"
   ]
  },
  {
   "cell_type": "raw",
   "id": "006d2a91-770c-48a0-bf57-449c647adbe0",
   "metadata": {},
   "source": [
    " "
   ]
  },
  {
   "cell_type": "code",
   "execution_count": 11,
   "id": "93b5692d-4db9-489e-bd9a-f2ecbc3bdabc",
   "metadata": {},
   "outputs": [
    {
     "name": "stdout",
     "output_type": "stream",
     "text": [
      "4\n"
     ]
    }
   ],
   "source": [
    "def f(x):\n",
    "    x = x + 1\n",
    "    return x\n",
    "    \n",
    "x = 3\n",
    "z= f(x)\n",
    "print(z)"
   ]
  },
  {
   "cell_type": "markdown",
   "id": "c5a300ac-8184-4f9c-8e7f-7d2cca114bc4",
   "metadata": {},
   "source": [
    "## nested function"
   ]
  },
  {
   "cell_type": "code",
   "execution_count": 15,
   "id": "583fe712-5012-417d-beb0-58e471b21bb7",
   "metadata": {},
   "outputs": [],
   "source": [
    "def f():\n",
    "    def g():\n",
    "        print(\"inside function g\")\n",
    "    g()    \n",
    "    print (\"inside function f\")    "
   ]
  },
  {
   "cell_type": "code",
   "execution_count": 16,
   "id": "ea1d0d78-9532-4f97-9e10-d138da2a6b96",
   "metadata": {},
   "outputs": [
    {
     "name": "stdout",
     "output_type": "stream",
     "text": [
      "inside function g\n",
      "inside function f\n"
     ]
    }
   ],
   "source": [
    "f()"
   ]
  },
  {
   "cell_type": "code",
   "execution_count": 17,
   "id": "d0f355e4-1f2b-482a-860a-f6f658638479",
   "metadata": {},
   "outputs": [
    {
     "name": "stdout",
     "output_type": "stream",
     "text": [
      "4\n"
     ]
    }
   ],
   "source": [
    "def g(x):\n",
    "    def h():\n",
    "        x = \"abc\"\n",
    "    x = x + 1\n",
    "    print(x)\n",
    "    h()\n",
    "    return(x)\n",
    "\n",
    "x = 3\n",
    "z = g(x)"
   ]
  },
  {
   "cell_type": "markdown",
   "id": "50dd2d4d-e6e1-4487-bd09-9d9c3f1333a0",
   "metadata": {},
   "source": [
    "## functions are first class citizen"
   ]
  },
  {
   "cell_type": "markdown",
   "id": "c673b17a-faad-4e8d-9a64-4053240ba8cc",
   "metadata": {},
   "source": [
    "## lambda \n",
    "a lambda function can take any number argument byt can only have one expresion"
   ]
  },
  {
   "cell_type": "code",
   "execution_count": 4,
   "id": "4e414d3f-f249-4880-ab09-7a0985cb15fd",
   "metadata": {},
   "outputs": [
    {
     "data": {
      "text/plain": [
       "25"
      ]
     },
     "execution_count": 4,
     "metadata": {},
     "output_type": "execute_result"
    }
   ],
   "source": [
    "a=lambda x : x**2\n",
    "a(5)"
   ]
  },
  {
   "cell_type": "code",
   "execution_count": 5,
   "id": "5acf8c88-8cad-4bb2-a76d-3a12ef759c05",
   "metadata": {},
   "outputs": [
    {
     "data": {
      "text/plain": [
       "'even'"
      ]
     },
     "execution_count": 5,
     "metadata": {},
     "output_type": "execute_result"
    }
   ],
   "source": [
    "a = lambda x : \"even\" if x%2 == 0 else \"odd\"\n",
    "a(2)"
   ]
  },
  {
   "cell_type": "code",
   "execution_count": 2,
   "id": "57e0e1ba-7a82-4159-b536-ddd7bece73de",
   "metadata": {},
   "outputs": [
    {
     "name": "stdout",
     "output_type": "stream",
     "text": [
      "8\n",
      "27\n",
      "64\n",
      "125\n"
     ]
    }
   ],
   "source": [
    "#l=[1,2,3,4,5,6,7,8,9]\n",
    "def cube(li):\n",
    "    for i in li:\n",
    "        i=i**3\n",
    "        print(i)\n",
    "\n",
    "li=[2,3,4,5]\n",
    "cube(li)"
   ]
  },
  {
   "cell_type": "code",
   "execution_count": 4,
   "id": "20e9215a-9e2a-4a7c-9a25-eb3152137d11",
   "metadata": {},
   "outputs": [
    {
     "name": "stdout",
     "output_type": "stream",
     "text": [
      "[1, 8, 27, 64, 125]\n"
     ]
    }
   ],
   "source": [
    "#def\n",
    "def transform (f,l):\n",
    "    output = []\n",
    "    for i in l:\n",
    "        output.append(f(i))\n",
    "    print(output)\n",
    "\n",
    "L=[1,2,3,4,5]\n",
    "transform(lambda x:x**3,L)"
   ]
  },
  {
   "cell_type": "markdown",
   "id": "68c33622-6132-428e-a276-6b4187e80c56",
   "metadata": {},
   "source": [
    "### map"
   ]
  },
  {
   "cell_type": "code",
   "execution_count": 5,
   "id": "9d2dfd4a-ea40-4bf0-adb0-d35f1e783bbc",
   "metadata": {},
   "outputs": [
    {
     "data": {
      "text/plain": [
       "[1, 4, 9, 16, 25]"
      ]
     },
     "execution_count": 5,
     "metadata": {},
     "output_type": "execute_result"
    }
   ],
   "source": [
    "#squer the items of the list \n",
    "\n",
    "list(map(lambda x:x**2,[1,2,3,4,5]))"
   ]
  },
  {
   "cell_type": "code",
   "execution_count": 9,
   "id": "98974c88-7527-4519-9a1e-6988c6639ff4",
   "metadata": {},
   "outputs": [
    {
     "data": {
      "text/plain": [
       "['odd', 'even', 'odd', 'even', 'odd', 'even', 'odd', 'odd']"
      ]
     },
     "execution_count": 9,
     "metadata": {},
     "output_type": "execute_result"
    }
   ],
   "source": [
    "list(map( lambda x : \"even\" if x%2 == 0 else \"odd\",[1,2,3,4,5,534,533,433]))\n"
   ]
  },
  {
   "cell_type": "code",
   "execution_count": 17,
   "id": "824c0208-1d2a-4149-bb02-d6a2eeb9762b",
   "metadata": {},
   "outputs": [
    {
     "data": {
      "text/plain": [
       "['male', 'male', 'female']"
      ]
     },
     "execution_count": 17,
     "metadata": {},
     "output_type": "execute_result"
    }
   ],
   "source": [
    "user=[\n",
    "    {\n",
    "    'name':'rahul',\n",
    "    'age':23,\n",
    "    'gender':'male'\n",
    "},\n",
    "{\n",
    "    'name':'nitish',\n",
    "    'age':25,\n",
    "    'gender':'male'\n",
    "},\n",
    "{\n",
    "    'name':'ankita',\n",
    "    'age':20,\n",
    "    'gender':'female'\n",
    "}\n",
    "]\n",
    "list(map(lambda x: x['gender'],user))"
   ]
  },
  {
   "cell_type": "code",
   "execution_count": null,
   "id": "839bd518-946a-4d2f-987d-56c2b5b58038",
   "metadata": {},
   "outputs": [],
   "source": [
    "# number greater"
   ]
  },
  {
   "cell_type": "code",
   "execution_count": 18,
   "id": "99bb0c54-1ba6-462d-928e-4cc555079147",
   "metadata": {},
   "outputs": [
    {
     "data": {
      "text/plain": [
       "['apple']"
      ]
     },
     "execution_count": 18,
     "metadata": {},
     "output_type": "execute_result"
    }
   ],
   "source": [
    "#fetch fruita starting with \"a\"\n",
    "\n",
    "fruits = [\"apple\",\"cherry\",\"kiwi\"]\n",
    "list(filter(lambda x : x.startswith(\"a\"),fruits))"
   ]
  },
  {
   "cell_type": "code",
   "execution_count": 19,
   "id": "5222bca7-8bad-45cc-b8e9-5a5ae0f11213",
   "metadata": {},
   "outputs": [
    {
     "data": {
      "text/plain": [
       "15"
      ]
     },
     "execution_count": 19,
     "metadata": {},
     "output_type": "execute_result"
    }
   ],
   "source": [
    "#sum of all items\n",
    "import functools\n",
    "\n",
    "functools.reduce(lambda x,y : x+y ,[1,2,3,4,5])"
   ]
  },
  {
   "cell_type": "code",
   "execution_count": 7,
   "id": "ebd7079d-3237-4569-a7c0-b3fc366d1b85",
   "metadata": {},
   "outputs": [
    {
     "data": {
      "text/plain": [
       "12"
      ]
     },
     "execution_count": 7,
     "metadata": {},
     "output_type": "execute_result"
    }
   ],
   "source": [
    "import functools\n",
    "\n",
    "# find the min\n",
    "l=[12,45,67,89,90,45,12,78,56]\n",
    "functools.reduce(lambda x,y : x if x<y else y,l)\n",
    "\n"
   ]
  },
  {
   "cell_type": "code",
   "execution_count": null,
   "id": "92e44a2e-068e-498e-ad83-f85f8b2a3119",
   "metadata": {},
   "outputs": [],
   "source": []
  },
  {
   "cell_type": "code",
   "execution_count": null,
   "id": "64b3f637-3f89-44bf-9000-89e7fbd4d1c0",
   "metadata": {},
   "outputs": [],
   "source": []
  }
 ],
 "metadata": {
  "kernelspec": {
   "display_name": "Python 3 (ipykernel)",
   "language": "python",
   "name": "python3"
  },
  "language_info": {
   "codemirror_mode": {
    "name": "ipython",
    "version": 3
   },
   "file_extension": ".py",
   "mimetype": "text/x-python",
   "name": "python",
   "nbconvert_exporter": "python",
   "pygments_lexer": "ipython3",
   "version": "3.11.7"
  }
 },
 "nbformat": 4,
 "nbformat_minor": 5
}
